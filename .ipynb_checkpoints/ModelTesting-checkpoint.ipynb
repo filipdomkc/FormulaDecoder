{
 "cells": [
  {
   "cell_type": "markdown",
   "id": "babad77d",
   "metadata": {},
   "source": [
    "## Processing handwritten equation with OpenCV and pytesseract"
   ]
  },
  {
   "cell_type": "markdown",
   "id": "5df069ef",
   "metadata": {},
   "source": [
    "The goal of this project is to make an app which would be able to detect handwritten math symbols on a picture. After detecting math symbols the app should be able to solve simple mathematical problem given on a picture (addition, subtraction, multiplication and divison)."
   ]
  },
  {
   "cell_type": "code",
   "execution_count": 1,
   "id": "81cba06d",
   "metadata": {},
   "outputs": [],
   "source": [
    "# import useful libraries\n",
    "import os\n",
    "import re\n",
    "import cv2\n",
    "import pytesseract\n",
    "import numpy as np\n",
    "from sympy import *\n",
    "from pathlib import Path\n",
    "import matplotlib.pyplot as plt\n",
    "from IPython.display import Image, display"
   ]
  },
  {
   "cell_type": "code",
   "execution_count": 2,
   "id": "9a538ea0",
   "metadata": {},
   "outputs": [
    {
     "data": {
      "text/plain": [
       "<Version('5.3.1.20230401')>"
      ]
     },
     "execution_count": 2,
     "metadata": {},
     "output_type": "execute_result"
    }
   ],
   "source": [
    "pytesseract. get_tesseract_version() "
   ]
  },
  {
   "cell_type": "code",
   "execution_count": null,
   "id": "76a9d1d2",
   "metadata": {},
   "outputs": [],
   "source": [
    "# path to the main dataset directory\n",
    "main_path = Path('D:\\FormulaDecoder\\sample_pics')\n",
    "file_paths = []\n",
    "\n",
    "# iterate through all files in the folder\n",
    "for file_path in main_path.glob('**/*'):\n",
    "    if file_path.is_file():\n",
    "        file_paths.append(str(file_path))\n",
    "\n",
    "# print the list of file paths\n",
    "print(file_paths)"
   ]
  },
  {
   "cell_type": "code",
   "execution_count": null,
   "id": "1b827265",
   "metadata": {},
   "outputs": [],
   "source": [
    "for sample in file_paths:\n",
    "    # read image\n",
    "    img = cv2.imread(sample)\n",
    "    img = cv2.cvtColor(img,cv2.COLOR_BGR2RGB)\n",
    "    \n",
    "    # read characters with pytesseract\n",
    "    ocr_result = pytesseract.image_to_string(img)\n",
    "    ocr =  parsing_equation_string(ocr_result)\n",
    "    print(ocr)\n",
    "    \n",
    "    # convert the image to PNG format\n",
    "    ret, png = cv2.imencode('.png', img)\n",
    "    \n",
    "    # display image to check if OCR is correct\n",
    "    display(Image(data=png))\n",
    "    \n",
    "    # Define the input equation as a string\n",
    "    equation_str = ocr_result[:-2]\n",
    "\n",
    "    # Convert the equation string to a SymPy expression\n",
    "    equation = sympify(equation_str)\n",
    "\n",
    "    # Evaluate the equation\n",
    "    math_result = equation.evalf()\n",
    "    \n",
    "    # Print the result\n",
    "    print(math_result)"
   ]
  },
  {
   "cell_type": "markdown",
   "id": "946f78ff",
   "metadata": {},
   "source": [
    "Now, while we are currently capable of solving basic mathematical operations such as addition, division, subtraction, and multiplication, our desire to tackle more intricate tasks and functions continues to drive further development"
   ]
  },
  {
   "cell_type": "code",
   "execution_count": null,
   "id": "60115116",
   "metadata": {},
   "outputs": [],
   "source": [
    "# function for loading equation image\n",
    "\n",
    "def load_image(path):\n",
    "     \"\"\"Loads image\n",
    "    Args:\n",
    "        path (str): path to image \"\"\"\n",
    "        \n",
    "    img = cv2.imread(path)\n",
    "    img = cv2.cvtColor(img,cv2.COLOR_BGR2RGB)\n",
    "    \n",
    "    return img"
   ]
  },
  {
   "cell_type": "code",
   "execution_count": null,
   "id": "e3371c13",
   "metadata": {},
   "outputs": [],
   "source": [
    "\n",
    "    "
   ]
  },
  {
   "cell_type": "code",
   "execution_count": null,
   "id": "2526c308",
   "metadata": {},
   "outputs": [],
   "source": [
    "def find_contours(path):\n",
    "    \"\"\"\n",
    "    Finds all contours in a given picture.\n",
    "    Args:\n",
    "        path (str): path to image\n",
    "    Returns:\n",
    "        contours: Detected contours. Each contour is stored as a vector of points.\n",
    "        hierarchy: Optional output vector, containing information about the image topology.\n",
    "    \"\"\"\n",
    "    img = cv2.imread(path)\n",
    "    imgray = cv2.cvtColor(img, cv2.COLOR_BGR2GRAY)\n",
    "    ret, thresh = cv2.threshold(imgray, 100, 255, 0)\n",
    "    return cv2.findContours(\n",
    "        thresh, cv2.RETR_TREE, cv2.CHAIN_APPROX_SIMPLE)"
   ]
  },
  {
   "cell_type": "code",
   "execution_count": null,
   "id": "19277b20",
   "metadata": {},
   "outputs": [],
   "source": []
  },
  {
   "cell_type": "code",
   "execution_count": null,
   "id": "ca7b3075",
   "metadata": {},
   "outputs": [],
   "source": [
    "def check_exponent(bounding_boxes):\n",
    "    \"\"\"Checks difference between vertical coordinate y among two bounding boxes.\n",
    "    Args:\n",
    "        bounding_boxes (list): bounding box to be used for comparison\n",
    "    Returns:\n",
    "        boolean: True if according to a condition exponent is recognized. Otherwise returns False.\"\"\"\n",
    "    \n",
    "    main_anchor = bounding_boxes[0][1] + bounding_boxes[0][3]\n",
    "    remaining_anchors = [(bounding_box[1]+bounding_box[3]) for bounding_box in bounding_boxes[1:]]\n",
    "    \n",
    "    mask = [False]\n",
    "    \n",
    "    is_exponent = None\n",
    "    delta_y = None\n",
    "    \n",
    "    for anchor in remaining_anchors:\n",
    "        \n",
    "        if 0.3 < (anchor/main_anchor) < 0.7:\n",
    "            is_exponent = True\n",
    "        else:\n",
    "            is_exponent = False\n",
    "            \n",
    "        mask.append(is_exponent)\n",
    "        \n",
    "    return mask"
   ]
  },
  {
   "cell_type": "code",
   "execution_count": null,
   "id": "55923f40",
   "metadata": {},
   "outputs": [],
   "source": [
    "def parsing_equation_string(string): \n",
    "    \"\"\"Parsing string equation on every equation element and saving it into list\n",
    "    Args:\n",
    "        string (str): equation string for parsing\n",
    "    Returns:\n",
    "        result (lst) : list of equation elements in sequential order\n",
    "    \"\"\"\n",
    "    import re \n",
    "    \n",
    "    # create a regular expression pattern to match numbers and mathematical operators\n",
    "    pattern = r'(\\d+|[+\\-*/])'\n",
    "\n",
    "    # find all matches of the pattern in the string and store the results in a list\n",
    "    result = re.findall(pattern, string)\n",
    "    \n",
    "    return result"
   ]
  },
  {
   "cell_type": "code",
   "execution_count": null,
   "id": "a4be0ffb",
   "metadata": {},
   "outputs": [],
   "source": [
    "def overlapping_axes(coord1, delta1, coord2, delta2):\n",
    "    \"\"\"Checks wether 2 bounding boxes overlap over given axes\n",
    "    Args:\n",
    "        coord1 (int): start coordinate of axes for first bounding box\n",
    "        delta1 (int): size of first bounding box along axes\n",
    "        coord2 (int): coordinate of start axes for second bounding box\n",
    "        delta2 (int): size of second bounding box along axes\n",
    "    Returns:\n",
    "        bool: true if they overlap else false\n",
    "    \"\"\"\n",
    "    if coord1 <= coord2 + delta2 and coord1 >= coord2:\n",
    "        return True\n",
    "    if coord1 + delta1 <= coord2 + delta2 and coord1 + delta1 >= coord2:\n",
    "        return True\n",
    "    if coord2 <= coord1 + delta1 and coord2 >= coord1:\n",
    "        return True\n",
    "    if coord2 + delta2 <= coord1 + delta1 and coord2 + delta2 >= coord1:\n",
    "        return True\n",
    "\n",
    "    return False"
   ]
  },
  {
   "cell_type": "code",
   "execution_count": null,
   "id": "0c892494",
   "metadata": {},
   "outputs": [],
   "source": [
    "def remove_overlapping_bounding_boxes(boundingRects):\n",
    "    \"\"\"Finds all contours and chooses ones that best contour given characters.\n",
    "    Args:\n",
    "        boundingRects (list): list of bounding boxes to check and remove if overlapping\n",
    "    Returns:\n",
    "        list: list of bounding boxes for filtered contours\n",
    "    \"\"\"\n",
    "\n",
    "    # If 2 bounding boxes are overlapping, take the bigger one\n",
    "    for i in range(len(boundingRects)):\n",
    "        if boundingRects[i] is None:\n",
    "            continue\n",
    "        for j in range(i + 1, len(boundingRects)):\n",
    "            if boundingRects[j] is None:\n",
    "                continue\n",
    "            x1, y1, width1, height1 = boundingRects[i]\n",
    "            x2, y2, width2, height2 = boundingRects[j]\n",
    "\n",
    "            if overlapping_axes(x1, width1, x2, width2) and overlapping_axes(y1, height1, y2, height2):\n",
    "                if width1 * height1 > width2 * height2:\n",
    "                    boundingRects[j] = None\n",
    "                else:\n",
    "                    boundingRects[i] = None\n",
    "                    break\n",
    "\n",
    "    return [bounding for bounding in boundingRects if bounding is not None]"
   ]
  },
  {
   "cell_type": "code",
   "execution_count": null,
   "id": "0ed3617a",
   "metadata": {},
   "outputs": [],
   "source": [
    "for sample in file_paths:\n",
    "    \n",
    "    img = cv2.imread(sample)\n",
    "    contours, hierarchy = find_contours(sample)\n",
    "    # create list of tuples\n",
    "    boundingRects = [cv2.boundingRect(contour) for contour in contours]\n",
    "    # sort list of tuples by first element (which is x coordinate), that way we get bounding boxes in right order \n",
    "    boundingRects.sort()\n",
    "    boundingRects = boundingRects[1:]\n",
    "    \n",
    "    boundingBoxes_filtered = remove_overlapping_bounding_boxes(boundingRects)\n",
    "    boundingBoxes_filtered = remove_overlapping_bounding_boxes(boundingBoxes_filtered)\n",
    "    print(boundingBoxes_filtered)\n",
    "    \n",
    " \n",
    "    exponent = check_exponent_2(boundingBoxes_filtered)\n",
    "    print(exponent)\n",
    "    \n",
    "    (xb,yb,wb,hb)=boundingBoxes_filtered[0]\n",
    "    (xe,ye,we,he)=boundingBoxes_filtered[-1]\n",
    "    \n",
    "    char_list=[]\n",
    "    \n",
    "    for boundingRect in boundingBoxes_filtered:\n",
    "        (x,y,w,h)=boundingRect\n",
    "        img_cropped = img[y:y+h, x : x+w]\n",
    "        ocr_output = pytesseract.image_to_string(img_cropped,lang='eng', config='--psm 10')\n",
    "        char_list.append(ocr_output)\n",
    "        ret, png = cv2.imencode('.png', img_cropped)\n",
    "        display(Image(data=png))\n",
    "        #cv2.rectangle(img, (x-5, y-5), (x+w+5, y+h+5), (255, 0, 0), 2) # BLUE\n",
    "        #cv2.circle(img,(x-10,y-10),1,(0, 0, 255),2) # RED\n",
    "        #cv2.circle(img,(x+w+10,y+h+10),1,(0, 255, 0),2) # GREEN\n",
    "    \n",
    "    print(char_list)\n",
    "    \n",
    "    #cv2.line(image, start_point, end_point, color, thickness)\n",
    "    #baseline = cv2.line(img,(xb-10,yb+hb+10),(xe+we+10,yb+hb+10),(0, 0, 255),4) # RED LINE\n",
    "    # show the image with bounding boxes\n",
    "    ret, png = cv2.imencode('.png', img)\n",
    "    # display image to check if OCR is correct\n",
    "    display(Image(data=png))\n",
    "\n"
   ]
  },
  {
   "cell_type": "code",
   "execution_count": null,
   "id": "f4bdfefb",
   "metadata": {},
   "outputs": [],
   "source": [
    "def check_exponent_2(bounding_boxes):\n",
    "    \"\"\"Checks difference between vertical coordinate y among two bounding boxes.\n",
    "    Args:\n",
    "        bounding_boxes (list): bounding box to be used for comparison\n",
    "    Returns:\n",
    "        boolean: True if according to a condition exponent is recognized. Otherwise returns False.\"\"\"\n",
    "    \n",
    "    origin = (bounding_boxes[0][1])-10\n",
    "    baseline = bounding_boxes[0][1]+bounding_boxes[0][3]+10\n",
    "    remaining_anchors = [((bounding_box[1]+bounding_box[3]+10),bounding_box[2],bounding_box[3]) for bounding_box in bounding_boxes[1:]]\n",
    "    mask = [False]\n",
    "    \n",
    "    is_exponent = None\n",
    "    \n",
    "    for anchor,w,h in remaining_anchors:\n",
    "        \n",
    "        if ((anchor-origin)/(baseline-origin) < 0.65 ) and (w/h < 1.2):\n",
    "            is_exponent = True\n",
    "        else:\n",
    "            is_exponent = False\n",
    "            \n",
    "        mask.append(is_exponent)\n",
    "        \n",
    "    return mask\n"
   ]
  },
  {
   "cell_type": "code",
   "execution_count": null,
   "id": "5d06935a",
   "metadata": {},
   "outputs": [],
   "source": [
    "#this function will do OCR on bounding box area only \n",
    "def ocr_bbox (bounding_boxes):\n",
    "    \n",
    "    for boundingRect in bounding_boxes:\n",
    "        (x,y,w,h)=boundingRect\n",
    "        \n",
    "        # Crop the specific required portion of entire image\n",
    "        "
   ]
  },
  {
   "cell_type": "markdown",
   "id": "324bb6f5",
   "metadata": {},
   "source": [
    "## Step 1: Image preprocessing"
   ]
  },
  {
   "cell_type": "markdown",
   "id": "060939f1",
   "metadata": {},
   "source": [
    "The first step of preprocessing is to smooth out the image and make it a binary image (black or white) for contour analysis."
   ]
  },
  {
   "cell_type": "code",
   "execution_count": 34,
   "id": "a2203574",
   "metadata": {},
   "outputs": [
    {
     "data": {
      "image/png": "[encoded data removed]",
      "text/plain": [
       "<Figure size 640x480 with 1 Axes>"
      ]
     },
     "metadata": {},
     "output_type": "display_data"
    }
   ],
   "source": [
    "img = cv2.imread('D:\\\\FormulaDecoder\\\\sample_pics\\\\11.png')\n",
    "\n",
    "# Convert the image to grayscale\n",
    "gray = cv2.cvtColor(img, cv2.COLOR_BGR2GRAY)\n",
    "#blur_img = cv2.GaussianBlur(gray, (5, 5),0)\n",
    "\n",
    "# Apply binary thresholding\n",
    "threshold_value = 127 # threshold value to be used\n",
    "max_value = 255 # maximum value to be assigned for pixel values above threshold\n",
    "threshold_type = cv2.THRESH_BINARY # binary thresholding type\n",
    "_, binary = cv2.threshold(gray, threshold_value, max_value, threshold_type)\n",
    "\n",
    "# Invert the image\n",
    "inverted_img = cv2.bitwise_not(binary)\n",
    "\n",
    "# Display the binary image\n",
    "plt.imshow(inverted_img, cmap='gray')\n",
    "plt.show()"
   ]
  },
  {
   "cell_type": "markdown",
   "id": "fc4076b9",
   "metadata": {},
   "source": [
    "We first apply a Gaussian blur to smooth out the image. We then use adaptive thresholding to binarize the image (make it black or white) and we then invert the colours since OpenCV uses black as the background and white as the objects."
   ]
  },
  {
   "cell_type": "markdown",
   "id": "42b854d2",
   "metadata": {},
   "source": [
    "## Step 2: Contour extraction"
   ]
  },
  {
   "cell_type": "code",
   "execution_count": 35,
   "id": "00bbd11c",
   "metadata": {},
   "outputs": [
    {
     "name": "stdout",
     "output_type": "stream",
     "text": [
      "[(12, 44, 32, 31), (49, 17, 14, 27), (85, 54, 36, 4), (135, 28, 31, 46), (171, 44, 33, 31), (209, 17, 17, 27), (247, 38, 37, 36), (298, 44, 33, 31), (345, 38, 36, 36), (397, 28, 29, 47), (445, 48, 36, 3), (445, 61, 36, 4), (500, 28, 30, 47)]\n",
      "-----------------------\n",
      "[(12, 44, 32, 31), (49, 17, 14, 27), (85, 54, 36, 4), (135, 28, 31, 46), (171, 44, 33, 31), (209, 17, 17, 27), (247, 38, 37, 36), (298, 44, 33, 31), (345, 38, 36, 36), (397, 28, 29, 47), (445, 48, 36, 17), (500, 28, 30, 47)]\n"
     ]
    },
    {
     "data": {
      "image/png": "[encoded data removed]",
      "text/plain": [
       "<Figure size 640x480 with 1 Axes>"
      ]
     },
     "metadata": {},
     "output_type": "display_data"
    }
   ],
   "source": [
    "# Find contours in the thresholded image\n",
    "contours, hierarchy = cv2.findContours(inverted_img.copy(), cv2.RETR_EXTERNAL, cv2.CHAIN_APPROX_TC89_KCOS)\n",
    "\n",
    "boundingRects=[cv2.boundingRect(contour) for contour in contours]\n",
    "boundingRects.sort()\n",
    "\n",
    "outputBoundingRects = []\n",
    "\n",
    "# Combine rectangles for characters like \"=\"\n",
    "\n",
    "x_threshold = 5\n",
    "i = 0\n",
    "\n",
    "while i < len(boundingRects):\n",
    "        \n",
    "    if i == (len(boundingRects) - 1):  # last element\n",
    "        \n",
    "        outputBoundingRects.append(boundingRects[i])\n",
    "        break\n",
    "    \n",
    "    else:\n",
    "        x1, y1, w1, h1 = boundingRects[i]\n",
    "        x2, y2, w2, h2 = boundingRects[i+1]\n",
    "        center_x1 = (2*x1 + w1) / 2\n",
    "        center_x2 = (2*x2 + w2) / 2\n",
    "        \n",
    "        if abs(center_x1 - center_x2) < x_threshold:\n",
    "            # Combine the two bounding rects into one that takes up maximal space\n",
    "            x = min(x1, x2)\n",
    "            y = min(y1, y2)\n",
    "            w = max(x1 + w1, x2 + w2) - x\n",
    "            h = max(y1 + h1, y2 + h2) - y\n",
    "\n",
    "            outputBoundingRects.append((x,y,w,h))\n",
    "            i += 2  # skip next element\n",
    "        \n",
    "        else:\n",
    "            outputBoundingRects.append(boundingRects[i])\n",
    "            i += 1\n",
    "\n",
    "# Draw bounding boxes around the contours\n",
    "for (x, y, w, h) in outputBoundingRects:\n",
    "    cv2.rectangle(img, (x-5, y-5), (x + w + 5, y + h + 5), (0, 255, 0), 2)\n",
    "\n",
    "plt.imshow(img, cmap='gray')\n",
    "plt.show()\n"
   ]
  },
  {
   "cell_type": "code",
   "execution_count": null,
   "id": "ac22857e",
   "metadata": {},
   "outputs": [],
   "source": []
  },
  {
   "cell_type": "code",
   "execution_count": null,
   "id": "4284ec8d",
   "metadata": {},
   "outputs": [],
   "source": []
  }
 ],
 "metadata": {
  "kernelspec": {
   "display_name": "Python 3 (ipykernel)",
   "language": "python",
   "name": "python3"
  },
  "language_info": {
   "codemirror_mode": {
    "name": "ipython",
    "version": 3
   },
   "file_extension": ".py",
   "mimetype": "text/x-python",
   "name": "python",
   "nbconvert_exporter": "python",
   "pygments_lexer": "ipython3",
   "version": "3.10.9"
  }
 },
 "nbformat": 4,
 "nbformat_minor": 5
}
