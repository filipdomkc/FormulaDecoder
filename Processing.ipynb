{
 "cells": [
  {
   "cell_type": "markdown",
   "id": "093032f3",
   "metadata": {},
   "source": [
    "## Processing handwritten equation with OpenCV and pytesseract"
   ]
  },
  {
   "cell_type": "markdown",
   "id": "53931c7b",
   "metadata": {},
   "source": [
    "The goal of this project is to make an app which would be able to detect handwritten math symbols on a picture. After detecting math symbols the app should be able to solve simple mathematical problem given on a picture (addition, subtraction, multiplication and divison)."
   ]
  },
  {
   "cell_type": "markdown",
   "id": "3a1fb4b5",
   "metadata": {},
   "source": [
    "## 0. Importing python modules and libraries"
   ]
  },
  {
   "cell_type": "code",
   "execution_count": 1,
   "id": "4bca68e2",
   "metadata": {},
   "outputs": [],
   "source": [
    "# import useful libraries\n",
    "import os\n",
    "import re\n",
    "import cv2\n",
    "import imutils\n",
    "import argparse\n",
    "import pytesseract\n",
    "import numpy as np\n",
    "import sympy\n",
    "from pathlib import Path\n",
    "import matplotlib.pyplot as plt\n",
    "from IPython.display import Image, display"
   ]
  },
  {
   "cell_type": "code",
   "execution_count": 2,
   "id": "edb70955",
   "metadata": {},
   "outputs": [
    {
     "data": {
      "text/plain": [
       "<Version('5.3.1.20230401')>"
      ]
     },
     "execution_count": 2,
     "metadata": {},
     "output_type": "execute_result"
    }
   ],
   "source": [
    "pytesseract. get_tesseract_version() "
   ]
  },
  {
   "cell_type": "markdown",
   "id": "73ca1d1c",
   "metadata": {},
   "source": [
    "## 1. Image preprocessing"
   ]
  },
  {
   "cell_type": "code",
   "execution_count": 5,
   "id": "5307830b",
   "metadata": {},
   "outputs": [],
   "source": [
    "def load_and_preprocess_img(path):\n",
    "        \"\"\"\n",
    "        Load an image from the specified path, preprocess it by converting to grayscale, \n",
    "        applying binary thresholding, and inverting the image.\n",
    "\n",
    "        Args:\n",
    "            path (str): Path to the image file to load and preprocess.\n",
    "\n",
    "        Returns:\n",
    "            inverted_img (numpy.ndarray): A preprocessed grayscale image with binary thresholding \n",
    "            applied and inverted.\n",
    "        \"\"\"\n",
    "\n",
    "        # Load the image from the specified path\n",
    "        img = cv2.imread(path)\n",
    "\n",
    "        # Convert the image to grayscale\n",
    "        gray = cv2.cvtColor(img, cv2.COLOR_BGR2GRAY)\n",
    "        blur_img = cv2.GaussianBlur(gray, (3, 3),0)\n",
    "        \n",
    "        # Apply binary thresholding\n",
    "        threshold_value = 127 # threshold value to be used\n",
    "        max_value = 255 # maximum value to be assigned for pixel values above threshold\n",
    "        threshold_type = cv2.THRESH_BINARY # binary thresholding type\n",
    "        _, binary = cv2.threshold(gray, threshold_value, max_value, threshold_type)\n",
    "\n",
    "        # Invert the image\n",
    "        inverted_img = cv2.bitwise_not(binary)\n",
    "\n",
    "        # Return the preprocessed and inverted image\n",
    "        return inverted_img"
   ]
  },
  {
   "cell_type": "markdown",
   "id": "ed8197f0",
   "metadata": {},
   "source": [
    "## 2. Image OCR and equation "
   ]
  },
  {
   "cell_type": "code",
   "execution_count": 19,
   "id": "b7307508",
   "metadata": {},
   "outputs": [],
   "source": [
    "def correct_bounding_boxes(bounding_boxes):\n",
    "    \"\"\"\n",
    "    This function takes a list of bounding boxes and corrects the height of any\n",
    "    bounding boxes where the width is much greater than the height, so that they\n",
    "    become more square-like. The modification is done based on the center point\n",
    "    of each bounding box.\n",
    "    \"\"\"\n",
    "    corrected_boxes = []\n",
    "    \n",
    "    for box in bounding_boxes:\n",
    "        x, y, w, h = box\n",
    "        if w / h > 2:\n",
    "            center_x = (2*x + w) / 2\n",
    "            center_y = (2*y + h) / 2\n",
    "            \n",
    "            h = int(w+20)\n",
    "            w = h\n",
    "            x = int(center_x - (w / 2))\n",
    "            y = int(center_y - (h / 2))\n",
    "            \n",
    "            \n",
    "        corrected_boxes.append((x, y, w, h))\n",
    "    \n",
    "    return corrected_boxes"
   ]
  },
  {
   "cell_type": "code",
   "execution_count": 6,
   "id": "73ca55c7",
   "metadata": {},
   "outputs": [],
   "source": [
    "def check_exponent(bounding_boxes):\n",
    "    \"\"\"Checks difference between vertical coordinate y among two bounding boxes.\n",
    "    Args:\n",
    "        bounding_boxes (list): bounding box to be used for comparison\n",
    "    Returns:\n",
    "        boolean: True if according to a condition exponent is recognized. Otherwise returns False.\"\"\"\n",
    "    \n",
    "    origin = (bounding_boxes[0][1])-10\n",
    "    baseline = bounding_boxes[0][1]+bounding_boxes[0][3]+10\n",
    "    remaining_anchors = [((bounding_box[1]+bounding_box[3]+10),bounding_box[2],bounding_box[3]) for bounding_box in bounding_boxes[1:]]\n",
    "    mask = [False]\n",
    "    \n",
    "    is_exponent = None\n",
    "    \n",
    "    for anchor,w,h in remaining_anchors:\n",
    "        \n",
    "        if ((anchor-origin)/(baseline-origin) < 0.65 ) and (w/h < 1.2):\n",
    "            is_exponent = True\n",
    "        else:\n",
    "            is_exponent = False\n",
    "            \n",
    "        mask.append(is_exponent)\n",
    "        \n",
    "    return mask"
   ]
  },
  {
   "cell_type": "code",
   "execution_count": 10,
   "id": "24b79a72",
   "metadata": {},
   "outputs": [],
   "source": [
    "def OCR_and_exponent(inverted_img):\n",
    "    \"\"\"\n",
    "    Given an inverted grayscale image, identify the bounding boxes around individual characters \n",
    "    and return the list of bounding rectangles along with the location of any exponent character(s).\n",
    "    \n",
    "    Args:\n",
    "        inverted_img (numpy.ndarray): An inverted grayscale image.\n",
    "    \n",
    "    Returns:\n",
    "        eq_rep (list): A list of tuples where the first tuple elements contains characters in left-to-right order, and second\n",
    "        tuple elements are boolean telling whether or not that particular character is exponent \n",
    "    \"\"\"\n",
    "    \n",
    "    # Find contours in the thresholded image\n",
    "    contours, hierarchy = cv2.findContours(inverted_img.copy(), cv2.RETR_EXTERNAL, cv2.CHAIN_APPROX_TC89_KCOS)\n",
    "    \n",
    "    # Extract bounding rectangles for each contour and sort them by x-coordinate\n",
    "    boundingRects=[cv2.boundingRect(contour) for contour in contours]\n",
    "    boundingRects.sort()\n",
    "\n",
    "    outputBoundingRects = []\n",
    "\n",
    "    # Combine rectangles for characters like \"=\"\n",
    "    x_threshold = 5\n",
    "    i = 0\n",
    "\n",
    "    while i < len(boundingRects):\n",
    "\n",
    "        if i == (len(boundingRects) - 1):  # last element\n",
    "\n",
    "            outputBoundingRects.append(boundingRects[i])\n",
    "            break\n",
    "\n",
    "        else:\n",
    "            x1, y1, w1, h1 = boundingRects[i]\n",
    "            x2, y2, w2, h2 = boundingRects[i+1]\n",
    "            center_x1 = (2*x1 + w1) / 2\n",
    "            center_x2 = (2*x2 + w2) / 2\n",
    "\n",
    "            if abs(center_x1 - center_x2) < x_threshold:\n",
    "                # Combine the two bounding rects into one that takes up maximal space\n",
    "                x = min(x1, x2)\n",
    "                y = min(y1, y2)\n",
    "                w = max(x1 + w1, x2 + w2) - x\n",
    "                h = max(y1 + h1, y2 + h2) - y\n",
    "\n",
    "                outputBoundingRects.append((x,y,w,h))\n",
    "                i += 2  # skip next element\n",
    "\n",
    "            else:\n",
    "                outputBoundingRects.append(boundingRects[i])\n",
    "                i += 1\n",
    "    \n",
    "    # Perform additional processing to correct the bounding boxes and detect any exponent characters\n",
    "    outputBoundingRects = correct_bounding_boxes(outputBoundingRects)    \n",
    "    exponent = check_exponent(outputBoundingRects)\n",
    "    \n",
    "    # Iterate through each bounding box and extract text using pytesseract\n",
    "    equation_parse=[]\n",
    "\n",
    "    for boundingBox in outputBoundingRects:\n",
    "\n",
    "        # Get the bounding rectangle\n",
    "        x, y, w, h = boundingBox\n",
    "\n",
    "        # Extract text from the region of interest using pytesseract\n",
    "        roi = inverted_img[y-10:y+h+10, x-10:x+w+10]\n",
    "        custom_config_1 = r'-c tessedit_char_whitelist=+-*/=Σ0123456789xyzO --psm 8 --oem 3'\n",
    "\n",
    "        text = pytesseract.image_to_string(roi, config=custom_config_1 )\n",
    "        text = text.rstrip('\\n')\n",
    "        equation_parse.append(text)\n",
    "    \n",
    "    eq_rep = [(x, y) for x, y in zip(equation_parse, exponent)]\n",
    "    \n",
    "    return eq_rep"
   ]
  },
  {
   "cell_type": "markdown",
   "id": "7e287041",
   "metadata": {},
   "source": [
    "## 3. Constructing equation for python to solve"
   ]
  },
  {
   "cell_type": "code",
   "execution_count": 67,
   "id": "3f277c5a",
   "metadata": {},
   "outputs": [],
   "source": [
    "def rewritting_equation(tuple_list):\n",
    "    \"\"\"Takes a list of tuples representing a mathematical equation and rewrites it as a string with exponentiation\n",
    "        represented by double asterisks (i.e. **). Inserts * between adjacent number and variable.\n",
    "    Args:\n",
    "        tuple_list(lst): A list of tuples representing a mathematical equation. Each tuple contains an element of the equation as a string and a boolean value indicating whether the element is an exponent or not.\n",
    "    Returns\n",
    "        string (str): returns the rewritten equation as a string.\n",
    "    \"\"\"\n",
    "    # Step 1: Create an empty string variable\n",
    "    equation = \"\"\n",
    "\n",
    "    # Step 2: Iterate through the list of tuples\n",
    "    for i in range(len(tuple_list)):\n",
    "        if i==0:\n",
    "            equation += tuple_list[i][0]\n",
    "        # Step 2a: If the element is an exponent, append the element followed by \"**\" to equation\n",
    "        elif tuple_list[i][1]:\n",
    "            equation += \"**\" + tuple_list[i][0]\n",
    "        # Step 2b: Otherwise, just append the element to equation\n",
    "        elif tuple_list[i-1][0].isdigit() and tuple_list[i][0].isalpha() and i!=0:\n",
    "            equation += \"*\" + tuple_list[i][0]  \n",
    "        else: \n",
    "            equation += tuple_list[i][0]\n",
    "\n",
    "    return equation"
   ]
  },
  {
   "cell_type": "code",
   "execution_count": 12,
   "id": "24e29311",
   "metadata": {},
   "outputs": [],
   "source": [
    "def is_polynomial(eq):\n",
    "    \"\"\"\n",
    "    Determines if the input is a polynomial equation or not.\n",
    "    Args:\n",
    "        eq: list of tuples representing the equation\n",
    "    Returns: \n",
    "        boolean: True if the input is a polynomial equation, False otherwise\n",
    "    \"\"\"\n",
    "    # Loop through each element in the equation\n",
    "    for el in eq:\n",
    "        # Skip operands and other non-variable/non-numeric characters\n",
    "        if el[0] in '+-*/^()=':\n",
    "            continue\n",
    "        \n",
    "        # Check if there are any variables in the equation\n",
    "        elif el[0].isalpha():\n",
    "            return True\n",
    "     \n",
    "    # If none of the above conditions are met, then the equation is not a polynomial\n",
    "    return False"
   ]
  },
  {
   "cell_type": "code",
   "execution_count": 75,
   "id": "86f2146f",
   "metadata": {},
   "outputs": [],
   "source": [
    "def sympy_symbol(equation):\n",
    "    # find all the variables in the equation\n",
    "    variables = set(re.findall(r'\\b[a-zA-Z]+\\b', equation))\n",
    "    \n",
    "    # create the symbols for the variables\n",
    "    symbols = {}\n",
    "    \n",
    "    # create the symbols for the variables\n",
    "    for var in variables:\n",
    "        symbols[var] = sympy.symbols(var)\n",
    "    \n",
    "    # replace the variables in the equation with the symbols\n",
    "    for var, symbol in symbols.items():\n",
    "        equation = equation.replace(var, str(symbol))\n",
    "    \n",
    "    return equation,symbols"
   ]
  },
  {
   "cell_type": "markdown",
   "id": "a301acdb",
   "metadata": {},
   "source": [
    "## 4. Solution"
   ]
  },
  {
   "cell_type": "code",
   "execution_count": 80,
   "id": "a3de38bf",
   "metadata": {},
   "outputs": [],
   "source": [
    "def process_n_calc(path):\n",
    "    \n",
    "    inverted_img = load_and_preprocess_img(path)\n",
    "    \n",
    "    eq_rep = OCR_and_exponent(inverted_img)\n",
    "    \n",
    "    equation = rewritting_equation(eq_rep)\n",
    "    \n",
    "    if '=' in equation:\n",
    "        # Strip off '= 0' from the equation\n",
    "        equation = equation.split('=')[0].strip()\n",
    "        \n",
    "    if is_polynomial(equation):\n",
    "        equation_sym, symbols = sympy_symbol(equation)\n",
    "        print(equation_sym)\n",
    "        \n",
    "        solutions = []\n",
    "        for var, symbol in symbols.items():\n",
    "            solution = sympy.sympify(equation_sym)\n",
    "            solution = sympy.solve(solution,symbol)\n",
    "            solutions.append(solution)\n",
    "        return solutions\n",
    "    \n",
    "    else:\n",
    "        solution = eval(equation)\n",
    "        return solution\n",
    "    "
   ]
  },
  {
   "cell_type": "code",
   "execution_count": 81,
   "id": "995de2bd",
   "metadata": {},
   "outputs": [
    {
     "name": "stdout",
     "output_type": "stream",
     "text": [
      "x**3-5*x**2-8*x+12\n"
     ]
    }
   ],
   "source": [
    "solution = process_n_calc('D:\\\\FormulaDecoder\\\\sample_pics\\\\12.png')"
   ]
  },
  {
   "cell_type": "code",
   "execution_count": 82,
   "id": "1c5beeff",
   "metadata": {},
   "outputs": [
    {
     "name": "stdout",
     "output_type": "stream",
     "text": [
      "[[-2, 1, 6]]\n"
     ]
    }
   ],
   "source": [
    "print(solution)"
   ]
  }
 ],
 "metadata": {
  "kernelspec": {
   "display_name": "Python 3 (ipykernel)",
   "language": "python",
   "name": "python3"
  },
  "language_info": {
   "codemirror_mode": {
    "name": "ipython",
    "version": 3
   },
   "file_extension": ".py",
   "mimetype": "text/x-python",
   "name": "python",
   "nbconvert_exporter": "python",
   "pygments_lexer": "ipython3",
   "version": "3.10.9"
  }
 },
 "nbformat": 4,
 "nbformat_minor": 5
}
