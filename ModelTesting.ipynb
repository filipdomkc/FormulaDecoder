{
 "cells": [
  {
   "cell_type": "markdown",
   "id": "babad77d",
   "metadata": {},
   "source": [
    "## Processing handwritten equation with OpenCV and pytesseract"
   ]
  },
  {
   "cell_type": "markdown",
   "id": "5df069ef",
   "metadata": {},
   "source": [
    "The goal of this project is to make an app which would be able to detect handwritten math symbols on a picture. After detecting math symbols the app should be able to solve simple mathematical problem given on a picture (addition, subtraction, multiplication and divison)."
   ]
  },
  {
   "cell_type": "code",
   "execution_count": 1,
   "id": "81cba06d",
   "metadata": {},
   "outputs": [],
   "source": [
    "# import useful libraries\n",
    "import os\n",
    "import re\n",
    "import cv2\n",
    "import imutils\n",
    "import argparse\n",
    "import pytesseract\n",
    "import numpy as np\n",
    "import sympy\n",
    "from pathlib import Path\n",
    "import matplotlib.pyplot as plt\n",
    "from IPython.display import Image, display"
   ]
  },
  {
   "cell_type": "code",
   "execution_count": 2,
   "id": "9a538ea0",
   "metadata": {},
   "outputs": [
    {
     "data": {
      "text/plain": [
       "<Version('5.3.1.20230401')>"
      ]
     },
     "execution_count": 2,
     "metadata": {},
     "output_type": "execute_result"
    }
   ],
   "source": [
    "pytesseract. get_tesseract_version() "
   ]
  },
  {
   "cell_type": "code",
   "execution_count": 3,
   "id": "76a9d1d2",
   "metadata": {},
   "outputs": [
    {
     "name": "stdout",
     "output_type": "stream",
     "text": [
      "['D:\\\\FormulaDecoder\\\\sample_pics\\\\1.png', 'D:\\\\FormulaDecoder\\\\sample_pics\\\\10.png', 'D:\\\\FormulaDecoder\\\\sample_pics\\\\11.png', 'D:\\\\FormulaDecoder\\\\sample_pics\\\\12.png', 'D:\\\\FormulaDecoder\\\\sample_pics\\\\13.png', 'D:\\\\FormulaDecoder\\\\sample_pics\\\\14.png', 'D:\\\\FormulaDecoder\\\\sample_pics\\\\2.png', 'D:\\\\FormulaDecoder\\\\sample_pics\\\\3.png', 'D:\\\\FormulaDecoder\\\\sample_pics\\\\4.png', 'D:\\\\FormulaDecoder\\\\sample_pics\\\\5.png', 'D:\\\\FormulaDecoder\\\\sample_pics\\\\6.png', 'D:\\\\FormulaDecoder\\\\sample_pics\\\\7.png', 'D:\\\\FormulaDecoder\\\\sample_pics\\\\8.png', 'D:\\\\FormulaDecoder\\\\sample_pics\\\\9.png']\n"
     ]
    }
   ],
   "source": [
    "# path to the main dataset directory\n",
    "main_path = Path('D:\\FormulaDecoder\\sample_pics')\n",
    "file_paths = []\n",
    "\n",
    "# iterate through all files in the folder\n",
    "for file_path in main_path.glob('**/*'):\n",
    "    if file_path.is_file():\n",
    "        file_paths.append(str(file_path))\n",
    "\n",
    "# print the list of file paths\n",
    "print(file_paths)"
   ]
  },
  {
   "cell_type": "markdown",
   "id": "946f78ff",
   "metadata": {},
   "source": [
    "Now, while we are currently capable of solving basic mathematical operations such as addition, division, subtraction, and multiplication, our desire to tackle more intricate tasks and functions continues to drive further development"
   ]
  },
  {
   "cell_type": "code",
   "execution_count": 4,
   "id": "60115116",
   "metadata": {},
   "outputs": [],
   "source": [
    "# function for loading equation image\n",
    "\n",
    "def load_image(path):\n",
    "    \"\"\"Loads image\n",
    "    Args:\n",
    "        path (str): path to image \"\"\"\n",
    "        \n",
    "    img = cv2.imread(path)\n",
    "    img = cv2.cvtColor(img,cv2.COLOR_BGR2RGB)\n",
    "    \n",
    "    return img"
   ]
  },
  {
   "cell_type": "code",
   "execution_count": 5,
   "id": "2526c308",
   "metadata": {},
   "outputs": [],
   "source": [
    "def find_contours(path):\n",
    "    \"\"\"\n",
    "    Finds all contours in a given picture.\n",
    "    Args:\n",
    "        path (str): path to image\n",
    "    Returns:\n",
    "        contours: Detected contours. Each contour is stored as a vector of points.\n",
    "        hierarchy: Optional output vector, containing information about the image topology.\n",
    "    \"\"\"\n",
    "    img = cv2.imread(path)\n",
    "    imgray = cv2.cvtColor(img, cv2.COLOR_BGR2GRAY)\n",
    "    ret, thresh = cv2.threshold(imgray, 100, 255, 0)\n",
    "    return cv2.findContours(\n",
    "        thresh, cv2.RETR_TREE, cv2.CHAIN_APPROX_SIMPLE)"
   ]
  },
  {
   "cell_type": "code",
   "execution_count": 6,
   "id": "ca7b3075",
   "metadata": {},
   "outputs": [],
   "source": [
    "def check_exponent(bounding_boxes):\n",
    "    \"\"\"Checks difference between vertical coordinate y among two bounding boxes.\n",
    "    Args:\n",
    "        bounding_boxes (list): bounding box to be used for comparison\n",
    "    Returns:\n",
    "        boolean: True if according to a condition exponent is recognized. Otherwise returns False.\"\"\"\n",
    "    \n",
    "    main_anchor = bounding_boxes[0][1] + bounding_boxes[0][3]\n",
    "    remaining_anchors = [(bounding_box[1]+bounding_box[3]) for bounding_box in bounding_boxes[1:]]\n",
    "    \n",
    "    mask = [False]\n",
    "    \n",
    "    is_exponent = None\n",
    "    delta_y = None\n",
    "    \n",
    "    for anchor in remaining_anchors:\n",
    "        \n",
    "        if 0.3 < (anchor/main_anchor) < 0.7:\n",
    "            is_exponent = True\n",
    "        else:\n",
    "            is_exponent = False\n",
    "            \n",
    "        mask.append(is_exponent)\n",
    "        \n",
    "    return mask"
   ]
  },
  {
   "cell_type": "code",
   "execution_count": 7,
   "id": "55923f40",
   "metadata": {},
   "outputs": [],
   "source": [
    "def parsing_equation_string(string): \n",
    "    \"\"\"Parsing string equation on every equation element and saving it into list\n",
    "    Args:\n",
    "        string (str): equation string for parsing\n",
    "    Returns:\n",
    "        result (lst) : list of equation elements in sequential order\n",
    "    \"\"\"\n",
    "    import re \n",
    "    \n",
    "    # create a regular expression pattern to match numbers and mathematical operators\n",
    "    pattern = r'(\\d+|[+\\-*/])'\n",
    "\n",
    "    # find all matches of the pattern in the string and store the results in a list\n",
    "    result = re.findall(pattern, string)\n",
    "    \n",
    "    return result"
   ]
  },
  {
   "cell_type": "code",
   "execution_count": 8,
   "id": "a4be0ffb",
   "metadata": {},
   "outputs": [],
   "source": [
    "def overlapping_axes(coord1, delta1, coord2, delta2):\n",
    "    \"\"\"Checks wether 2 bounding boxes overlap over given axes\n",
    "    Args:\n",
    "        coord1 (int): start coordinate of axes for first bounding box\n",
    "        delta1 (int): size of first bounding box along axes\n",
    "        coord2 (int): coordinate of start axes for second bounding box\n",
    "        delta2 (int): size of second bounding box along axes\n",
    "    Returns:\n",
    "        bool: true if they overlap else false\n",
    "    \"\"\"\n",
    "    if coord1 <= coord2 + delta2 and coord1 >= coord2:\n",
    "        return True\n",
    "    if coord1 + delta1 <= coord2 + delta2 and coord1 + delta1 >= coord2:\n",
    "        return True\n",
    "    if coord2 <= coord1 + delta1 and coord2 >= coord1:\n",
    "        return True\n",
    "    if coord2 + delta2 <= coord1 + delta1 and coord2 + delta2 >= coord1:\n",
    "        return True\n",
    "\n",
    "    return False"
   ]
  },
  {
   "cell_type": "code",
   "execution_count": 9,
   "id": "0c892494",
   "metadata": {},
   "outputs": [],
   "source": [
    "def remove_overlapping_bounding_boxes(boundingRects):\n",
    "    \"\"\"Finds all contours and chooses ones that best contour given characters.\n",
    "    Args:\n",
    "        boundingRects (list): list of bounding boxes to check and remove if overlapping\n",
    "    Returns:\n",
    "        list: list of bounding boxes for filtered contours\n",
    "    \"\"\"\n",
    "\n",
    "    # If 2 bounding boxes are overlapping, take the bigger one\n",
    "    for i in range(len(boundingRects)):\n",
    "        if boundingRects[i] is None:\n",
    "            continue\n",
    "        for j in range(i + 1, len(boundingRects)):\n",
    "            if boundingRects[j] is None:\n",
    "                continue\n",
    "            x1, y1, width1, height1 = boundingRects[i]\n",
    "            x2, y2, width2, height2 = boundingRects[j]\n",
    "\n",
    "            if overlapping_axes(x1, width1, x2, width2) and overlapping_axes(y1, height1, y2, height2):\n",
    "                if width1 * height1 > width2 * height2:\n",
    "                    boundingRects[j] = None\n",
    "                else:\n",
    "                    boundingRects[i] = None\n",
    "                    break\n",
    "\n",
    "    return [bounding for bounding in boundingRects if bounding is not None]"
   ]
  },
  {
   "cell_type": "code",
   "execution_count": 10,
   "id": "0ed3617a",
   "metadata": {},
   "outputs": [],
   "source": [
    "def correct_bounding_boxes(bounding_boxes):\n",
    "    \"\"\"\n",
    "    This function takes a list of bounding boxes and corrects the height of any\n",
    "    bounding boxes where the width is much greater than the height, so that they\n",
    "    become more square-like. The modification is done based on the center point\n",
    "    of each bounding box.\n",
    "    \"\"\"\n",
    "    corrected_boxes = []\n",
    "    \n",
    "    for box in bounding_boxes:\n",
    "        x, y, w, h = box\n",
    "        if w / h > 2:\n",
    "            center_x = (2*x + w) / 2\n",
    "            center_y = (2*y + h) / 2\n",
    "            \n",
    "            h = int(w+20)\n",
    "            w = h\n",
    "            x = int(center_x - (w / 2))\n",
    "            y = int(center_y - (h / 2))\n",
    "            \n",
    "            \n",
    "        corrected_boxes.append((x, y, w, h))\n",
    "    \n",
    "    return corrected_boxes"
   ]
  },
  {
   "cell_type": "code",
   "execution_count": 11,
   "id": "f4bdfefb",
   "metadata": {},
   "outputs": [],
   "source": [
    "def check_exponent_2(bounding_boxes):\n",
    "    \"\"\"Checks difference between vertical coordinate y among two bounding boxes.\n",
    "    Args:\n",
    "        bounding_boxes (list): bounding box to be used for comparison\n",
    "    Returns:\n",
    "        boolean: True if according to a condition exponent is recognized. Otherwise returns False.\"\"\"\n",
    "    \n",
    "    origin = (bounding_boxes[0][1])-10\n",
    "    baseline = bounding_boxes[0][1]+bounding_boxes[0][3]+10\n",
    "    remaining_anchors = [((bounding_box[1]+bounding_box[3]+10),bounding_box[2],bounding_box[3]) for bounding_box in bounding_boxes[1:]]\n",
    "    mask = [False]\n",
    "    \n",
    "    is_exponent = None\n",
    "    \n",
    "    for anchor,w,h in remaining_anchors:\n",
    "        \n",
    "        if ((anchor-origin)/(baseline-origin) < 0.65 ) and (w/h < 1.2):\n",
    "            is_exponent = True\n",
    "        else:\n",
    "            is_exponent = False\n",
    "            \n",
    "        mask.append(is_exponent)\n",
    "        \n",
    "    return mask\n"
   ]
  },
  {
   "cell_type": "markdown",
   "id": "324bb6f5",
   "metadata": {},
   "source": [
    "## Step 1: Image preprocessing"
   ]
  },
  {
   "cell_type": "markdown",
   "id": "060939f1",
   "metadata": {},
   "source": [
    "The first step of preprocessing is to smooth out the image and make it a binary image (black or white) for contour analysis."
   ]
  },
  {
   "cell_type": "code",
   "execution_count": 12,
   "id": "3c792e27",
   "metadata": {},
   "outputs": [],
   "source": [
    "#Some preprocessing functions\n",
    "\n",
    "# get grayscale image\n",
    "def get_grayscale(image):\n",
    "    return cv2.cvtColor(image, cv2.COLOR_BGR2GRAY)\n",
    "\n",
    "# noise removal\n",
    "def remove_noise(image):\n",
    "    return cv2.medianBlur(image,5)\n",
    " \n",
    "#thresholding\n",
    "def thresholding(image):\n",
    "    return cv2.threshold(image, 0, 255, cv2.THRESH_BINARY + cv2.THRESH_OTSU)[1]\n",
    "\n",
    "#dilation\n",
    "def dilate(image):\n",
    "    kernel = np.ones((5,5),np.uint8)\n",
    "    return cv2.dilate(image, kernel, iterations = 1)\n",
    "    \n",
    "#erosion\n",
    "def erode(image):\n",
    "    kernel = np.ones((5,5),np.uint8)\n",
    "    return cv2.erode(image, kernel, iterations = 1)\n",
    "\n",
    "#opening - erosion followed by dilation\n",
    "def opening(image):\n",
    "    kernel = np.ones((5,5),np.uint8)\n",
    "    return cv2.morphologyEx(image, cv2.MORPH_OPEN, kernel)\n",
    "\n",
    "#canny edge detection\n",
    "def canny(image):\n",
    "    return cv2.Canny(image, 100, 200)\n",
    "\n",
    "#skew correction\n",
    "def deskew(image):\n",
    "    coords = np.column_stack(np.where(image > 0))\n",
    "    angle = cv2.minAreaRect(coords)[-1]\n",
    "    \n",
    "    if angle < -45:\n",
    "        angle = -(90 + angle)\n",
    "    else:\n",
    "        angle = -angle\n",
    "    \n",
    "    (h, w) = image.shape[:2]\n",
    "    center = (w // 2, h // 2)\n",
    "    M = cv2.getRotationMatrix2D(center, angle, 1.0)\n",
    "    rotated = cv2.warpAffine(image, M, (w, h), flags=cv2.INTER_CUBIC, borderMode=cv2.BORDER_REPLICATE)\n",
    "    return rotated\n",
    "\n",
    "#template matching\n",
    "def match_template(image, template):\n",
    "    return cv2.matchTemplate(image, template, cv2.TM_CCOEFF_NORMED) "
   ]
  },
  {
   "cell_type": "code",
   "execution_count": 13,
   "id": "a2203574",
   "metadata": {},
   "outputs": [
    {
     "data": {
      "image/png": "[encoded data removed]",
      "text/plain": [
       "<Figure size 640x480 with 1 Axes>"
      ]
     },
     "metadata": {},
     "output_type": "display_data"
    }
   ],
   "source": [
    "img = cv2.imread('D:\\\\FormulaDecoder\\\\sample_pics\\\\12.png')\n",
    "\n",
    "# Convert the image to grayscale\n",
    "gray = cv2.cvtColor(img, cv2.COLOR_BGR2GRAY)\n",
    "#blur_img = cv2.GaussianBlur(gray, (5, 5),0)\n",
    "\n",
    "# Apply binary thresholding\n",
    "threshold_value = 127 # threshold value to be used\n",
    "max_value = 255 # maximum value to be assigned for pixel values above threshold\n",
    "threshold_type = cv2.THRESH_BINARY # binary thresholding type\n",
    "_, binary = cv2.threshold(gray, threshold_value, max_value, threshold_type)\n",
    "\n",
    "# Invert the image\n",
    "inverted_img = cv2.bitwise_not(binary)\n",
    "\n",
    "# Display the binary image\n",
    "plt.imshow(inverted_img, cmap='gray')\n",
    "plt.show()"
   ]
  },
  {
   "cell_type": "markdown",
   "id": "fc4076b9",
   "metadata": {},
   "source": [
    "We first apply a Gaussian blur to smooth out the image. We then use adaptive thresholding to binarize the image (make it black or white) and we then invert the colours since OpenCV uses black as the background and white as the objects."
   ]
  },
  {
   "cell_type": "markdown",
   "id": "42b854d2",
   "metadata": {},
   "source": [
    "## Step 2: Contour extraction"
   ]
  },
  {
   "cell_type": "code",
   "execution_count": 14,
   "id": "f0247b79",
   "metadata": {},
   "outputs": [],
   "source": [
    "def sort_contours(cnts, method=\"left-to-right\"):\n",
    "    # initialize the reverse flag and sort index\n",
    "    reverse = False\n",
    "    i = 0\n",
    "    \n",
    "    # handle if we need to sort in reverse\n",
    "    if method == \"right-to-left\" or method == \"bottom-to-top\":\n",
    "        reverse = True\n",
    "        \n",
    "    # handle if we are sorting against the y-coordinate rather than the x-coordinate of the bounding box\n",
    "    if method == \"top-to-bottom\" or method == \"bottom-to-top\":\n",
    "        i = 1\n",
    "        \n",
    "    # construct the list of bounding boxes and sort them from top to bottom\n",
    "    boundingBoxes = [cv2.boundingRect(c) for c in cnts]\n",
    "    (cnts, boundingBoxes) = zip(*sorted(zip(cnts, boundingBoxes),\n",
    "        key=lambda b:b[1][i], reverse=reverse))\n",
    "    \n",
    "    # return the list of sorted contours and bounding boxes\n",
    "    return (cnts, boundingBoxes)"
   ]
  },
  {
   "cell_type": "code",
   "execution_count": 15,
   "id": "00bbd11c",
   "metadata": {},
   "outputs": [
    {
     "name": "stdout",
     "output_type": "stream",
     "text": [
      "[False, True, False, False, False, True, False, False, False, False, False, False, False, False]\n"
     ]
    },
    {
     "data": {
      "image/png": "[encoded data removed]",
      "text/plain": [
       "<Figure size 640x480 with 1 Axes>"
      ]
     },
     "metadata": {},
     "output_type": "display_data"
    }
   ],
   "source": [
    "# Find contours in the thresholded image\n",
    "contours, hierarchy = cv2.findContours(inverted_img.copy(), cv2.RETR_EXTERNAL, cv2.CHAIN_APPROX_TC89_KCOS)\n",
    "\n",
    "boundingRects=[cv2.boundingRect(contour) for contour in contours]\n",
    "boundingRects.sort()\n",
    "\n",
    "outputBoundingRects = []\n",
    "\n",
    "# Combine rectangles for characters like \"=\"\n",
    "x_threshold = 5\n",
    "i = 0\n",
    "\n",
    "while i < len(boundingRects):\n",
    "        \n",
    "    if i == (len(boundingRects) - 1):  # last element\n",
    "        \n",
    "        outputBoundingRects.append(boundingRects[i])\n",
    "        break\n",
    "    \n",
    "    else:\n",
    "        x1, y1, w1, h1 = boundingRects[i]\n",
    "        x2, y2, w2, h2 = boundingRects[i+1]\n",
    "        center_x1 = (2*x1 + w1) / 2\n",
    "        center_x2 = (2*x2 + w2) / 2\n",
    "            \n",
    "        if abs(center_x1 - center_x2) < x_threshold:\n",
    "            # Combine the two bounding rects into one that takes up maximal space\n",
    "            x = min(x1, x2)\n",
    "            y = min(y1, y2)\n",
    "            w = max(x1 + w1, x2 + w2) - x\n",
    "            h = max(y1 + h1, y2 + h2) - y\n",
    "\n",
    "            outputBoundingRects.append((x,y,w,h))\n",
    "            i += 2  # skip next element\n",
    "\n",
    "        else:\n",
    "            outputBoundingRects.append(boundingRects[i])\n",
    "            i += 1\n",
    "            \n",
    "outputBoundingRects = correct_bounding_boxes(outputBoundingRects)\n",
    "\"\"\"      \n",
    "# Draw bounding boxes around the contours\n",
    "for (x, y, w, h) in outputBoundingRects:\n",
    "    cv2.rectangle(img, (x-10, y-10), (x + w + 10, y + h + 10), (0, 255, 0), 2)\n",
    "\"\"\" \n",
    "    \n",
    "exponent = check_exponent_2(outputBoundingRects)\n",
    "print(exponent)\n",
    "\n",
    "plt.imshow(img, cmap='gray')\n",
    "plt.show()\n"
   ]
  },
  {
   "cell_type": "code",
   "execution_count": 16,
   "id": "ac22857e",
   "metadata": {
    "scrolled": false
   },
   "outputs": [],
   "source": [
    "# Iterate through each bounding box and extract text using pytesseract\n",
    "equation_parse=[]\n",
    "\n",
    "for boundingBox in outputBoundingRects:\n",
    "    \n",
    "    # Get the bounding rectangle\n",
    "    x, y, w, h = boundingBox\n",
    "    \n",
    "    # Extract text from the region of interest using pytesseract\n",
    "    roi = inverted_img[y-10:y+h+10, x-10:x+w+10]\n",
    "    roi = cv2.GaussianBlur(roi, (3, 3), 0)\n",
    "    custom_config_1 = r'-c tessedit_char_whitelist=+-*/=Σ0123456789xyzO --psm 8 --oem 3'\n",
    "   \n",
    "    text = pytesseract.image_to_string(roi, config=custom_config_1 )\n",
    "    text = text.rstrip('\\n')\n",
    "    equation_parse.append(text)"
   ]
  },
  {
   "cell_type": "code",
   "execution_count": 17,
   "id": "07210445",
   "metadata": {},
   "outputs": [
    {
     "data": {
      "text/plain": [
       "['x', '3', '-', '5', 'x', '2', '-', '8', 'x', '+', '1', '2', '=', '0']"
      ]
     },
     "execution_count": 17,
     "metadata": {},
     "output_type": "execute_result"
    }
   ],
   "source": [
    "equation_parse"
   ]
  },
  {
   "cell_type": "code",
   "execution_count": 18,
   "id": "6066423f",
   "metadata": {},
   "outputs": [
    {
     "data": {
      "text/plain": [
       "[False,\n",
       " True,\n",
       " False,\n",
       " False,\n",
       " False,\n",
       " True,\n",
       " False,\n",
       " False,\n",
       " False,\n",
       " False,\n",
       " False,\n",
       " False,\n",
       " False,\n",
       " False]"
      ]
     },
     "execution_count": 18,
     "metadata": {},
     "output_type": "execute_result"
    }
   ],
   "source": [
    "exponent"
   ]
  },
  {
   "cell_type": "code",
   "execution_count": 19,
   "id": "03c3af50",
   "metadata": {},
   "outputs": [
    {
     "data": {
      "text/plain": [
       "[('x', False),\n",
       " ('3', True),\n",
       " ('-', False),\n",
       " ('5', False),\n",
       " ('x', False),\n",
       " ('2', True),\n",
       " ('-', False),\n",
       " ('8', False),\n",
       " ('x', False),\n",
       " ('+', False),\n",
       " ('1', False),\n",
       " ('2', False),\n",
       " ('=', False),\n",
       " ('0', False)]"
      ]
     },
     "execution_count": 19,
     "metadata": {},
     "output_type": "execute_result"
    }
   ],
   "source": [
    "eq = [(x, y) for x, y in zip(equation_parse, exponent)]\n",
    "eq"
   ]
  },
  {
   "cell_type": "markdown",
   "id": "854c1ebe",
   "metadata": {},
   "source": [
    "## Step 3: Constructing equation for python to solve"
   ]
  },
  {
   "cell_type": "markdown",
   "id": "ec1feea9",
   "metadata": {},
   "source": [
    "For simple math (like addition, subtraction, multiplication and division) we will use built-in python function eval(). For more complex functions (like polynomial equations etc.) we must write algorithm for inputing such functions in mathematical modules (e.g. Sympy, Numpy, ect)"
   ]
  },
  {
   "cell_type": "code",
   "execution_count": 20,
   "id": "7867318a",
   "metadata": {},
   "outputs": [
    {
     "ename": "NameError",
     "evalue": "name 'result' is not defined",
     "output_type": "error",
     "traceback": [
      "\u001b[1;31m---------------------------------------------------------------------------\u001b[0m",
      "\u001b[1;31mNameError\u001b[0m                                 Traceback (most recent call last)",
      "Cell \u001b[1;32mIn[20], line 19\u001b[0m\n\u001b[0;32m     15\u001b[0m     \u001b[38;5;28;01melse\u001b[39;00m :\n\u001b[0;32m     16\u001b[0m         \u001b[38;5;28;01mcontinue\u001b[39;00m\n\u001b[1;32m---> 19\u001b[0m \u001b[38;5;28mprint\u001b[39m(\u001b[43mresult\u001b[49m)\n",
      "\u001b[1;31mNameError\u001b[0m: name 'result' is not defined"
     ]
    }
   ],
   "source": [
    "sympy_input = \"\"\n",
    "\n",
    "\n",
    "for elem, is_exp in eq:\n",
    "    if all(is_exp == False for is_exp in eq):\n",
    "        \n",
    "        if elem == \"=\":\n",
    "            continue\n",
    "            \n",
    "        else:\n",
    "            sympy_input += f'{elem}'\n",
    "        \n",
    "        # solve the equation\n",
    "        result = round(eval(sympy_input), 5)\n",
    "    else :\n",
    "        continue\n",
    "\n",
    "\n",
    "print(result) "
   ]
  },
  {
   "cell_type": "code",
   "execution_count": 21,
   "id": "b55b0be3",
   "metadata": {},
   "outputs": [],
   "source": [
    "sol = sympy.solve('9+3')"
   ]
  },
  {
   "cell_type": "code",
   "execution_count": 22,
   "id": "c43a5acd",
   "metadata": {},
   "outputs": [
    {
     "name": "stdout",
     "output_type": "stream",
     "text": [
      "[]\n"
     ]
    }
   ],
   "source": [
    "print(sol)"
   ]
  },
  {
   "cell_type": "code",
   "execution_count": 36,
   "id": "be4373b4",
   "metadata": {},
   "outputs": [
    {
     "name": "stdout",
     "output_type": "stream",
     "text": [
      "x**3-5x**2-8x+12=0\n"
     ]
    },
    {
     "data": {
      "text/plain": [
       "'\\n# Step 3: Pass the equation string to Sympy simplify() function to simplify the expression\\nsimplified_eq = sympy.simplify(equation)\\nprint(simplified_eq)'"
      ]
     },
     "execution_count": 36,
     "metadata": {},
     "output_type": "execute_result"
    }
   ],
   "source": [
    "# Example input\n",
    "eq_list = [('x', False), ('3', True), ('-', False), ('5', False), ('x', False), ('2', True), ('-', False), ('8', False), ('x', False), ('+', False), ('1', False), ('2', False), ('=', False), ('0', False)]\n",
    "\n",
    "def rewritting_equation(tuple_list):\n",
    "    \"\"\"Takes a list of tuples representing a mathematical equation and rewrites it as a string with exponentiation\n",
    "        represented by double asterisks (i.e. **).\n",
    "    Args:\n",
    "        tuple_list(lst): A list of tuples representing a mathematical equation. Each tuple contains an element of the equation as a string and a boolean value indicating whether the element is an exponent or not.\n",
    "    Returns\n",
    "        string (str): returns the rewritten equation as a string.\n",
    "    \"\"\"\n",
    "    # Step 1: Create an empty string variable\n",
    "    equation = \"\"\n",
    "\n",
    "    # Step 2: Iterate through the list of tuples\n",
    "    for item in eq_list:\n",
    "        # Step 2a: If the element is an exponent, append the element followed by \"**\" to equation\n",
    "        if item[1]:\n",
    "            equation += \"**\" + item[0] \n",
    "        # Step 2b: Otherwise, just append the element to equation\n",
    "        else:\n",
    "            # Step 2c: Check if the current element is a number and the next element is a variable\n",
    "            if i < len(tuple_list) - 1 and tuple_list[i][0].isdigit() and not tuple_list[i+1][1]:\n",
    "                equation += tuple_list[i][0] + \"*\"\n",
    "                \n",
    "            equation += item[0]\n",
    "\n",
    "    return equation\n",
    "\n",
    "eq=rewritting_equation(eq_list)\n",
    "print(eq)\n",
    "\"\"\"\n",
    "# Step 3: Pass the equation string to Sympy simplify() function to simplify the expression\n",
    "simplified_eq = sympy.simplify(equation)\n",
    "print(simplified_eq)\"\"\""
   ]
  },
  {
   "cell_type": "code",
   "execution_count": 33,
   "id": "0da4adc8",
   "metadata": {},
   "outputs": [
    {
     "name": "stdout",
     "output_type": "stream",
     "text": [
      "[-2, 1, 6]\n"
     ]
    }
   ],
   "source": [
    "#example\n",
    "x = sympy.symbols('x')\n",
    "eq = sympy.simplify('x**3 - 5*x**2 - 8*x + 12')\n",
    "solution = sympy.solve(eq, x)\n",
    "\n",
    "print(solution)\n"
   ]
  },
  {
   "cell_type": "code",
   "execution_count": 31,
   "id": "138ae011",
   "metadata": {},
   "outputs": [
    {
     "ename": "SympifyError",
     "evalue": "Sympify of expression 'could not parse '2*x + y = 0'' failed, because of exception being raised:\nSyntaxError: invalid syntax (<string>, line 1)",
     "output_type": "error",
     "traceback": [
      "\u001b[1;31m---------------------------------------------------------------------------\u001b[0m",
      "\u001b[1;31mValueError\u001b[0m                                Traceback (most recent call last)",
      "\u001b[1;31mValueError\u001b[0m: Error from parse_expr with transformed code: \"Integer (2 )*Symbol ('x' )+Symbol ('y' )=Integer (0 )\"",
      "\nThe above exception was the direct cause of the following exception:\n",
      "\u001b[1;31mSyntaxError\u001b[0m                               Traceback (most recent call last)",
      "File \u001b[1;32m~\\anaconda3\\lib\\site-packages\\sympy\\core\\sympify.py:496\u001b[0m, in \u001b[0;36msympify\u001b[1;34m(a, locals, convert_xor, strict, rational, evaluate)\u001b[0m\n\u001b[0;32m    495\u001b[0m     a \u001b[38;5;241m=\u001b[39m a\u001b[38;5;241m.\u001b[39mreplace(\u001b[38;5;124m'\u001b[39m\u001b[38;5;130;01m\\n\u001b[39;00m\u001b[38;5;124m'\u001b[39m, \u001b[38;5;124m'\u001b[39m\u001b[38;5;124m'\u001b[39m)\n\u001b[1;32m--> 496\u001b[0m     expr \u001b[38;5;241m=\u001b[39m \u001b[43mparse_expr\u001b[49m\u001b[43m(\u001b[49m\u001b[43ma\u001b[49m\u001b[43m,\u001b[49m\u001b[43m \u001b[49m\u001b[43mlocal_dict\u001b[49m\u001b[38;5;241;43m=\u001b[39;49m\u001b[38;5;28;43mlocals\u001b[39;49m\u001b[43m,\u001b[49m\u001b[43m \u001b[49m\u001b[43mtransformations\u001b[49m\u001b[38;5;241;43m=\u001b[39;49m\u001b[43mtransformations\u001b[49m\u001b[43m,\u001b[49m\u001b[43m \u001b[49m\u001b[43mevaluate\u001b[49m\u001b[38;5;241;43m=\u001b[39;49m\u001b[43mevaluate\u001b[49m\u001b[43m)\u001b[49m\n\u001b[0;32m    497\u001b[0m \u001b[38;5;28;01mexcept\u001b[39;00m (TokenError, \u001b[38;5;167;01mSyntaxError\u001b[39;00m) \u001b[38;5;28;01mas\u001b[39;00m exc:\n",
      "File \u001b[1;32m~\\anaconda3\\lib\\site-packages\\sympy\\parsing\\sympy_parser.py:1101\u001b[0m, in \u001b[0;36mparse_expr\u001b[1;34m(s, local_dict, transformations, global_dict, evaluate)\u001b[0m\n\u001b[0;32m   1100\u001b[0m     local_dict[i] \u001b[38;5;241m=\u001b[39m null\n\u001b[1;32m-> 1101\u001b[0m \u001b[38;5;28;01mraise\u001b[39;00m e \u001b[38;5;28;01mfrom\u001b[39;00m \u001b[38;5;21;01mValueError\u001b[39;00m(\u001b[38;5;124mf\u001b[39m\u001b[38;5;124m\"\u001b[39m\u001b[38;5;124mError from parse_expr with transformed code: \u001b[39m\u001b[38;5;132;01m{\u001b[39;00mcode\u001b[38;5;132;01m!r}\u001b[39;00m\u001b[38;5;124m\"\u001b[39m)\n",
      "File \u001b[1;32m~\\anaconda3\\lib\\site-packages\\sympy\\parsing\\sympy_parser.py:1092\u001b[0m, in \u001b[0;36mparse_expr\u001b[1;34m(s, local_dict, transformations, global_dict, evaluate)\u001b[0m\n\u001b[0;32m   1091\u001b[0m \u001b[38;5;28;01mtry\u001b[39;00m:\n\u001b[1;32m-> 1092\u001b[0m     rv \u001b[38;5;241m=\u001b[39m \u001b[43meval_expr\u001b[49m\u001b[43m(\u001b[49m\u001b[43mcode\u001b[49m\u001b[43m,\u001b[49m\u001b[43m \u001b[49m\u001b[43mlocal_dict\u001b[49m\u001b[43m,\u001b[49m\u001b[43m \u001b[49m\u001b[43mglobal_dict\u001b[49m\u001b[43m)\u001b[49m\n\u001b[0;32m   1093\u001b[0m     \u001b[38;5;66;03m# restore neutral definitions for names\u001b[39;00m\n",
      "File \u001b[1;32m~\\anaconda3\\lib\\site-packages\\sympy\\parsing\\sympy_parser.py:907\u001b[0m, in \u001b[0;36meval_expr\u001b[1;34m(code, local_dict, global_dict)\u001b[0m\n\u001b[0;32m    902\u001b[0m \u001b[38;5;124;03m\"\"\"\u001b[39;00m\n\u001b[0;32m    903\u001b[0m \u001b[38;5;124;03mEvaluate Python code generated by ``stringify_expr``.\u001b[39;00m\n\u001b[0;32m    904\u001b[0m \n\u001b[0;32m    905\u001b[0m \u001b[38;5;124;03mGenerally, ``parse_expr`` should be used.\u001b[39;00m\n\u001b[0;32m    906\u001b[0m \u001b[38;5;124;03m\"\"\"\u001b[39;00m\n\u001b[1;32m--> 907\u001b[0m expr \u001b[38;5;241m=\u001b[39m \u001b[38;5;28;43meval\u001b[39;49m\u001b[43m(\u001b[49m\n\u001b[0;32m    908\u001b[0m \u001b[43m    \u001b[49m\u001b[43mcode\u001b[49m\u001b[43m,\u001b[49m\u001b[43m \u001b[49m\u001b[43mglobal_dict\u001b[49m\u001b[43m,\u001b[49m\u001b[43m \u001b[49m\u001b[43mlocal_dict\u001b[49m\u001b[43m)\u001b[49m  \u001b[38;5;66;03m# take local objects in preference\u001b[39;00m\n\u001b[0;32m    909\u001b[0m \u001b[38;5;28;01mreturn\u001b[39;00m expr\n",
      "\u001b[1;31mSyntaxError\u001b[0m: invalid syntax (<string>, line 1)",
      "\nDuring handling of the above exception, another exception occurred:\n",
      "\u001b[1;31mSympifyError\u001b[0m                              Traceback (most recent call last)",
      "Cell \u001b[1;32mIn[31], line 22\u001b[0m\n\u001b[0;32m     19\u001b[0m symbols \u001b[38;5;241m=\u001b[39m sympy_symbol(equation)\n\u001b[0;32m     21\u001b[0m \u001b[38;5;28;01mfor\u001b[39;00m var, symbol \u001b[38;5;129;01min\u001b[39;00m symbols\u001b[38;5;241m.\u001b[39mitems():\n\u001b[1;32m---> 22\u001b[0m     equation \u001b[38;5;241m=\u001b[39m \u001b[43msympy\u001b[49m\u001b[38;5;241;43m.\u001b[39;49m\u001b[43msympify\u001b[49m\u001b[43m(\u001b[49m\u001b[43mequation\u001b[49m\u001b[43m)\u001b[49m\n\u001b[0;32m     23\u001b[0m     solution \u001b[38;5;241m=\u001b[39m sympy\u001b[38;5;241m.\u001b[39msolve(equation, symbol)\n\u001b[0;32m     24\u001b[0m     \u001b[38;5;28mprint\u001b[39m(solution)\n",
      "File \u001b[1;32m~\\anaconda3\\lib\\site-packages\\sympy\\core\\sympify.py:498\u001b[0m, in \u001b[0;36msympify\u001b[1;34m(a, locals, convert_xor, strict, rational, evaluate)\u001b[0m\n\u001b[0;32m    496\u001b[0m     expr \u001b[38;5;241m=\u001b[39m parse_expr(a, local_dict\u001b[38;5;241m=\u001b[39m\u001b[38;5;28mlocals\u001b[39m, transformations\u001b[38;5;241m=\u001b[39mtransformations, evaluate\u001b[38;5;241m=\u001b[39mevaluate)\n\u001b[0;32m    497\u001b[0m \u001b[38;5;28;01mexcept\u001b[39;00m (TokenError, \u001b[38;5;167;01mSyntaxError\u001b[39;00m) \u001b[38;5;28;01mas\u001b[39;00m exc:\n\u001b[1;32m--> 498\u001b[0m     \u001b[38;5;28;01mraise\u001b[39;00m SympifyError(\u001b[38;5;124m'\u001b[39m\u001b[38;5;124mcould not parse \u001b[39m\u001b[38;5;132;01m%r\u001b[39;00m\u001b[38;5;124m'\u001b[39m \u001b[38;5;241m%\u001b[39m a, exc)\n\u001b[0;32m    500\u001b[0m \u001b[38;5;28;01mreturn\u001b[39;00m expr\n",
      "\u001b[1;31mSympifyError\u001b[0m: Sympify of expression 'could not parse '2*x + y = 0'' failed, because of exception being raised:\nSyntaxError: invalid syntax (<string>, line 1)"
     ]
    }
   ],
   "source": [
    "\n",
    "# define the equation as a string\n",
    "equation = '2*x + y = 0'\n",
    "\n",
    "def sympy_symbol(equation):\n",
    "    # find all the variables in the equation\n",
    "    variables = set(re.findall(r'\\b[a-zA-Z]+\\b', equation))\n",
    "    \n",
    "    # create the symbols for the variables\n",
    "    symbols = {}\n",
    "    for var in variables:\n",
    "        symbols[var] = sympy.symbols(var)\n",
    "\n",
    "    # replace the variables in the equation with the symbols\n",
    "    for var, symbol in symbols.items():\n",
    "        equation = equation.replace(var, str(symbol))\n",
    "    \n",
    "    return symbols\n",
    "\n",
    "symbols = sympy_symbol(equation)\n",
    "\n",
    "for var, symbol in symbols.items():\n",
    "    equation = sympy.sympify(equation)\n",
    "    solution = sympy.solve(equation, symbol)\n",
    "    print(solution)"
   ]
  },
  {
   "cell_type": "code",
   "execution_count": null,
   "id": "d3a1b753",
   "metadata": {},
   "outputs": [],
   "source": [
    "# Example input\n",
    "eq_list1 = [('x', False), ('3', True), ('-', False), ('5', False), ('x', False), ('2', True), ('-', False), ('8', False), ('x', False), ('+', False), ('1', False), ('2', False), ('=', False), ('0', False)]\n",
    "\n",
    "eq_list2 = [('9', False), ('+', False), ('3', False), ('=', False)]\n",
    "\n",
    "def is_polynomial(eq):\n",
    "    \"\"\"\n",
    "    Determines if the input is a polynomial equation or not.\n",
    "    Args:\n",
    "        eq: list of tuples representing the equation\n",
    "    Returns: \n",
    "        boolean: True if the input is a polynomial equation, False otherwise\n",
    "    \"\"\"\n",
    "    # Loop through each element in the equation\n",
    "    for el in eq:\n",
    "        # Skip operands and other non-variable/non-numeric characters\n",
    "        if el[0] in '+-*/^()=':\n",
    "            continue\n",
    "        \n",
    "        # Check if there are any variables in the equation\n",
    "        elif el[0].isalpha():\n",
    "            return True\n",
    "     \n",
    "    # If none of the above conditions are met, then the equation is not a polynomial\n",
    "    return False"
   ]
  },
  {
   "cell_type": "code",
   "execution_count": null,
   "id": "ed4575d2",
   "metadata": {},
   "outputs": [],
   "source": [
    "print(is_polynomial(eq_list1))\n",
    "print(is_polynomial(eq_list2))"
   ]
  },
  {
   "cell_type": "markdown",
   "id": "56990a53",
   "metadata": {},
   "source": [
    "The idea is to use above function to determine if we will use sympy (for solving polynomial equations), or we will use python's built in math module (for solving basic math operations with numbers)"
   ]
  },
  {
   "cell_type": "code",
   "execution_count": null,
   "id": "e6b31252",
   "metadata": {},
   "outputs": [],
   "source": [
    "print(type(sympy_symbol('x**3-5x**2-8x+12=0')['x']))\n",
    "for var, symbol in symbols.items():\n",
    "    print(type(var))\n",
    "    print(type(symbol))"
   ]
  },
  {
   "cell_type": "code",
   "execution_count": null,
   "id": "8542a81e",
   "metadata": {},
   "outputs": [],
   "source": [
    "equation = '5**3'\n",
    "eq_list = [('5', False), ('3', True)]\n",
    "eq_list1 = [('x', False), ('3', True), ('-', False), ('5', False), ('x', False), ('2', True), ('-', False), ('8', False), ('x', False), ('+', False), ('1', False), ('2', False), ('=', False), ('0', False)]\n",
    "\n",
    "if is_polynomial(eq_list1):\n",
    "    print ('polynom')   \n",
    "else:\n",
    "    result = eval(equation)\n",
    "    print(result)"
   ]
  },
  {
   "cell_type": "code",
   "execution_count": null,
   "id": "67c207c7",
   "metadata": {},
   "outputs": [],
   "source": [
    "def nesto():\n",
    "    a=['x', '3', '-', '5', 'x', '2', '-', '8', 'x', '+', '1', '2', '=', '0']\n",
    "    b=[False,\n",
    " True,\n",
    " False,\n",
    " False,\n",
    " False,\n",
    " True,\n",
    " False,\n",
    " False,\n",
    " False,\n",
    " False,\n",
    " False,\n",
    " False,\n",
    " False,\n",
    " False]\n",
    "    \n",
    "    return a,b"
   ]
  },
  {
   "cell_type": "code",
   "execution_count": null,
   "id": "18f8a769",
   "metadata": {},
   "outputs": [],
   "source": [
    "ab = nesto()"
   ]
  },
  {
   "cell_type": "code",
   "execution_count": null,
   "id": "38049861",
   "metadata": {},
   "outputs": [],
   "source": [
    "print(ab)"
   ]
  },
  {
   "cell_type": "code",
   "execution_count": null,
   "id": "b9ad4ff2",
   "metadata": {},
   "outputs": [],
   "source": [
    "print(b)"
   ]
  },
  {
   "cell_type": "code",
   "execution_count": 38,
   "id": "ed8c8c35",
   "metadata": {},
   "outputs": [
    {
     "name": "stdout",
     "output_type": "stream",
     "text": [
      "x**3-5x**2-8x+12=0\n"
     ]
    }
   ],
   "source": [
    "# Example input\n",
    "eq_list = [('x', False), ('3', True), ('-', False), ('5', False), ('x', False), ('2', True), ('-', False), ('8', False), ('x', False), ('+', False), ('1', False), ('2', False), ('=', False), ('0', False)]\n",
    "\n",
    "def rewritting_equation(tuple_list):\n",
    "    \"\"\"Takes a list of tuples representing a mathematical equation and rewrites it as a string with exponentiation\n",
    "        represented by double asterisks (i.e. **).\n",
    "    Args:\n",
    "        tuple_list(lst): A list of tuples representing a mathematical equation. Each tuple contains an element of the equation as a string and a boolean value indicating whether the element is an exponent or not.\n",
    "    Returns\n",
    "        string (str): returns the rewritten equation as a string.\n",
    "    \"\"\"\n",
    "    # Step 1: Create an empty string variable\n",
    "    equation = \"\"\n",
    "\n",
    "    # Step 2: Iterate through the list of tuples\n",
    "    for item in tuple_list:\n",
    "        # Step 2a: If the element is an exponent, append the element with \"**\" in front to equation\n",
    "        if item[1]:\n",
    "            equation += \"**\" + item[0] \n",
    "        # Step 2b: Otherwise, just append the element to equation\n",
    "        else:\n",
    "            # Step 2c: Check if the current element is a number and the next element is a variable\n",
    "            if i < len(tuple_list) - 1 and tuple_list[i][0].isdigit() and not tuple_list[i+1][1]:\n",
    "                equation += tuple_list[i][0] + \"*\"\n",
    "                \n",
    "            equation += item[0]\n",
    "\n",
    "    return equation\n",
    "\n",
    "eq=rewritting_equation(eq_list)\n",
    "print(eq)"
   ]
  },
  {
   "cell_type": "code",
   "execution_count": 39,
   "id": "304b6687",
   "metadata": {},
   "outputs": [
    {
     "name": "stdout",
     "output_type": "stream",
     "text": [
      "x**3-5*5x**2-8*8x+1*12*2=0\n"
     ]
    }
   ],
   "source": [
    "# Example input\n",
    "eq_list = [('x', False), ('3', True), ('-', False), ('5', False), ('x', False), ('2', True), ('-', False), ('8', False), ('x', False), ('+', False), ('1', False), ('2', False), ('=', False), ('0', False)]\n",
    "def rewritting_equation(tuple_list):\n",
    "    \"\"\"Takes a list of tuples representing a mathematical equation and rewrites it as a string with exponentiation\n",
    "        represented by double asterisks (i.e. **). Inserts * between adjacent number and variable.\n",
    "    Args:\n",
    "        tuple_list(lst): A list of tuples representing a mathematical equation. Each tuple contains an element of the equation as a string and a boolean value indicating whether the element is an exponent or not.\n",
    "    Returns\n",
    "        string (str): returns the rewritten equation as a string.\n",
    "    \"\"\"\n",
    "    # Step 1: Create an empty string variable\n",
    "    equation = \"\"\n",
    "\n",
    "    # Step 2: Iterate through the list of tuples\n",
    "    for i in range(len(tuple_list)):\n",
    "        # Step 2a: If the element is an exponent, append the element followed by \"**\" to equation\n",
    "        if tuple_list[i][1]:\n",
    "            equation += \"**\" + tuple_list[i][0]\n",
    "        # Step 2b: Otherwise, just append the element to equation\n",
    "        else:\n",
    "            # Step 2c: Check if the current element is a number and the next element is a variable\n",
    "            if i < len(tuple_list) - 1 and tuple_list[i][0].isdigit() and not tuple_list[i+1][1]:\n",
    "                equation += tuple_list[i][0] + \"*\"\n",
    "            equation += tuple_list[i][0]\n",
    "\n",
    "    return equation\n",
    "\n",
    "eq=rewritting_equation(eq_list)\n",
    "print(eq)"
   ]
  },
  {
   "cell_type": "code",
   "execution_count": 40,
   "id": "3d42b571",
   "metadata": {},
   "outputs": [
    {
     "name": "stdout",
     "output_type": "stream",
     "text": [
      "x**3-5*5x**2-8*8x+1*12*2=0\n"
     ]
    }
   ],
   "source": [
    "# Example input\n",
    "eq_list = [('x', False), ('3', True), ('-', False), ('5', False), ('x', False), ('2', True), ('-', False), ('8', False), ('x', False), ('+', False), ('1', False), ('2', False), ('=', False), ('0', False)]\n",
    "def rewritting_equation(tuple_list):\n",
    "    \"\"\"Takes a list of tuples representing a mathematical equation and rewrites it as a string with exponentiation\n",
    "        represented by double asterisks (i.e. **). Inserts * between adjacent number and variable.\n",
    "    Args:\n",
    "        tuple_list(lst): A list of tuples representing a mathematical equation. Each tuple contains an element of the equation as a string and a boolean value indicating whether the element is an exponent or not.\n",
    "    Returns\n",
    "        string (str): returns the rewritten equation as a string.\n",
    "    \"\"\"\n",
    "    # Step 1: Create an empty string variable\n",
    "    equation = \"\"\n",
    "\n",
    "    # Step 2: Iterate through the list of tuples\n",
    "    for i in range(len(tuple_list)):\n",
    "        # Step 2a: If the element is an exponent, append the element followed by \"**\" to equation\n",
    "        if tuple_list[i][1]:\n",
    "            equation += \"**\" + tuple_list[i][0]\n",
    "        # Step 2b: Otherwise, just append the element to equation\n",
    "        else:\n",
    "            # Step 2c: Check if the current element is a number and the next element is a variable\n",
    "            if i < len(tuple_list) - 1 and tuple_list[i][0].isdigit() and not tuple_list[i+1][1] and tuple_list[i+1][0] not in '+-*/^()':\n",
    "                equation += tuple_list[i][0] + \"*\"\n",
    "            equation += tuple_list[i][0]\n",
    "\n",
    "    return equation\n",
    "\n",
    "eq=rewritting_equation(eq_list)\n",
    "print(eq)"
   ]
  },
  {
   "cell_type": "code",
   "execution_count": 49,
   "id": "00254f67",
   "metadata": {},
   "outputs": [
    {
     "name": "stdout",
     "output_type": "stream",
     "text": [
      "x**3-5*x**2-8*x+12=0\n"
     ]
    }
   ],
   "source": [
    "def rewritting_equation(tuple_list):\n",
    "    \"\"\"Takes a list of tuples representing a mathematical equation and rewrites it as a string with exponentiation\n",
    "        represented by double asterisks (i.e. **). Inserts * between adjacent number and variable.\n",
    "    Args:\n",
    "        tuple_list(lst): A list of tuples representing a mathematical equation. Each tuple contains an element of the equation as a string and a boolean value indicating whether the element is an exponent or not.\n",
    "    Returns\n",
    "        string (str): returns the rewritten equation as a string.\n",
    "    \"\"\"\n",
    "    # Step 1: Create an empty string variable\n",
    "    equation = \"\"\n",
    "\n",
    "    # Step 2: Iterate through the list of tuples\n",
    "    for i in range(len(tuple_list)):\n",
    "        if i==0:\n",
    "            equation += tuple_list[i][0]\n",
    "        # Step 2a: If the element is an exponent, append the element followed by \"**\" to equation\n",
    "        elif tuple_list[i][1]:\n",
    "            equation += \"**\" + tuple_list[i][0]\n",
    "        # Step 2b: Otherwise, just append the element to equation\n",
    "        elif tuple_list[i-1][0].isdigit() and tuple_list[i][0].isalpha() and i!=0:\n",
    "            equation += \"*\" + tuple_list[i][0]  \n",
    "        else: \n",
    "            equation += tuple_list[i][0]\n",
    "\n",
    "    return equation\n",
    "\n",
    "eq_list = [('x', False), ('3', True), ('-', False), ('5', False), ('x', False), ('2', True), ('-', False), ('8', False), ('x', False), ('+', False), ('1', False), ('2', False), ('=', False), ('0', False)]\n",
    "eq=rewritting_equation(eq_list)\n",
    "print(eq)"
   ]
  },
  {
   "cell_type": "code",
   "execution_count": null,
   "id": "11cf4c51",
   "metadata": {},
   "outputs": [],
   "source": []
  }
 ],
 "metadata": {
  "kernelspec": {
   "display_name": "Python 3 (ipykernel)",
   "language": "python",
   "name": "python3"
  },
  "language_info": {
   "codemirror_mode": {
    "name": "ipython",
    "version": 3
   },
   "file_extension": ".py",
   "mimetype": "text/x-python",
   "name": "python",
   "nbconvert_exporter": "python",
   "pygments_lexer": "ipython3",
   "version": "3.10.9"
  }
 },
 "nbformat": 4,
 "nbformat_minor": 5
}
