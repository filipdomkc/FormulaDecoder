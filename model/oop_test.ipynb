{
 "cells": [
  {
   "cell_type": "code",
   "execution_count": 1,
   "id": "19ed0f62",
   "metadata": {},
   "outputs": [],
   "source": [
    "# import useful libraries\n",
    "import re\n",
    "import cv2\n",
    "import sympy\n",
    "import pytesseract\n",
    "import matplotlib.pyplot as plt"
   ]
  },
  {
   "cell_type": "code",
   "execution_count": 7,
   "id": "f263ec7d",
   "metadata": {},
   "outputs": [],
   "source": [
    "class ImageProcessor:\n",
    "    \n",
    "    def __init__(self, img_path):\n",
    "        self.img_path = img_path\n",
    "        self.img = self.load_image()\n",
    "        self._processed_img = self.preprocess_image()\n",
    "\n",
    "    def load_image(self):\n",
    "        \"\"\"\n",
    "        Load an image from the specified path.\n",
    "\n",
    "        Returns:\n",
    "            img (numpy.ndarray): A BGR image.\n",
    "        \"\"\"\n",
    "        img = cv2.imread(self.img_path)\n",
    "        if img is None:\n",
    "            print(\"Failed to load image.\")\n",
    "        return img\n",
    "\n",
    "    def preprocess_image(self):\n",
    "        \"\"\"\n",
    "        Preprocess the image by converting to grayscale, applying binary thresholding,\n",
    "        and inverting the image.\n",
    "\n",
    "        Returns:\n",
    "            inverted_img (numpy.ndarray): A preprocessed grayscale image with binary thresholding\n",
    "            applied and inverted.\n",
    "        \"\"\"\n",
    "        # Convert the image to grayscale\n",
    "        gray = cv2.cvtColor(self.img, cv2.COLOR_BGR2GRAY)\n",
    "        blur_img = cv2.GaussianBlur(gray, (3, 3), 0)\n",
    "\n",
    "        # Apply binary thresholding\n",
    "        threshold_value = 127 # threshold value to be used\n",
    "        max_value = 255 # maximum value to be assigned for pixel values above threshold\n",
    "        threshold_type = cv2.THRESH_BINARY # binary thresholding type\n",
    "        _, binary = cv2.threshold(blur_img, threshold_value, max_value, threshold_type)\n",
    "\n",
    "        # Invert the image\n",
    "        inverted_img = cv2.bitwise_not(binary)\n",
    "\n",
    "        return inverted_img\n",
    "    \n",
    "    @property\n",
    "    def processed_img(self):\n",
    "        return self._processed_img"
   ]
  },
  {
   "cell_type": "code",
   "execution_count": 3,
   "id": "fce75ce0",
   "metadata": {},
   "outputs": [],
   "source": [
    "class EquationParser:\n",
    "    \n",
    "    def __init__(self,inverted_img):\n",
    "        self.img = inverted_img\n",
    "        self.x_threshold = 5\n",
    "        self.custom_config_1 = r'-c tessedit_char_whitelist=+-*/=()0123456789xyzO --psm 8 --oem 3'\n",
    "        self.is_exponent=None\n",
    "        self.equation = \"\"\n",
    "    \n",
    "    def parse_equation(self):\n",
    "        \"\"\"\n",
    "        Given an inverted grayscale image, identify the bounding boxes around individual characters \n",
    "        and return the list of bounding rectangles along with the location of any exponent character(s).\n",
    "\n",
    "        Args:\n",
    "            inverted_img (numpy.ndarray): An inverted grayscale image.\n",
    "\n",
    "        Returns:\n",
    "            eq_rep (list): A list of tuples where the first tuple elements contains characters in left-to-right order, and second\n",
    "            tuple elements are boolean telling whether or not that particular character is exponent \n",
    "        \"\"\"\n",
    "\n",
    "        # Find contours in the thresholded image\n",
    "        contours, hierarchy = cv2.findContours(self.img.copy(), cv2.RETR_EXTERNAL, cv2.CHAIN_APPROX_TC89_KCOS)\n",
    "\n",
    "        # Extract bounding rectangles for each contour and sort them by x-coordinate\n",
    "        boundingRects = [cv2.boundingRect(contour) for contour in contours]\n",
    "        boundingRects.sort()\n",
    "\n",
    "        outputBoundingRects = []\n",
    "\n",
    "        # Combine rectangles for characters like \"=\"\n",
    "        i = 0\n",
    "\n",
    "        while i < len(boundingRects):\n",
    "\n",
    "            if i == (len(boundingRects) - 1):  # last element\n",
    "\n",
    "                outputBoundingRects.append(boundingRects[i])\n",
    "                break\n",
    "\n",
    "            else:\n",
    "                x1, y1, w1, h1 = boundingRects[i]\n",
    "                x2, y2, w2, h2 = boundingRects[i+1]\n",
    "                center_x1 = (2*x1 + w1) / 2\n",
    "                center_x2 = (2*x2 + w2) / 2\n",
    "\n",
    "                if abs(center_x1 - center_x2) < self.x_threshold:\n",
    "                    # Combine the two bounding rects into one that takes up maximal space\n",
    "                    x = min(x1, x2)\n",
    "                    y = min(y1, y2)\n",
    "                    w = max(x1 + w1, x2 + w2) - x\n",
    "                    h = max(y1 + h1, y2 + h2) - y\n",
    "\n",
    "                    outputBoundingRects.append((x,y,w,h))\n",
    "                    i += 2  # skip next element\n",
    "\n",
    "                else:\n",
    "                    outputBoundingRects.append(boundingRects[i])\n",
    "                    i += 1\n",
    "\n",
    "        # Perform additional processing to correct the bounding boxes and detect any exponent characters\n",
    "        outputBoundingRects = self._correct_bounding_boxes(outputBoundingRects)    \n",
    "        exponent = self._check_exponent(outputBoundingRects)\n",
    "\n",
    "        # Iterate through each bounding box and extract text using pytesseract\n",
    "        equation_parse = []\n",
    "\n",
    "        for boundingBox, is_exponent in zip(outputBoundingRects, exponent):\n",
    "            # Get the bounding rectangle\n",
    "            x, y, w, h = boundingBox\n",
    "\n",
    "            # Extract text from the region of interest using pytesseract\n",
    "            roi = self.img[y-10:y+h+10, x-10:x+w+10]\n",
    "            text = pytesseract.image_to_string(roi, config=self.custom_config_1 )\n",
    "            text = text.rstrip('\\n')\n",
    "            equation_parse.append((text, is_exponent))  \n",
    "        \n",
    "        equation = self.rewritting_equation(equation_parse)\n",
    "        \n",
    "        return equation \n",
    "    \n",
    "    def _correct_bounding_boxes(self, bounding_boxes):\n",
    "        \"\"\"\n",
    "        This function takes a list of bounding boxes and corrects the height of any\n",
    "        bounding boxes where the width is much greater than the height, so that they\n",
    "        become more square-like. The modification is done based on the center point\n",
    "        of each bounding box.\n",
    "        \"\"\"\n",
    "        corrected_boxes = []\n",
    "    \n",
    "        for box in bounding_boxes:\n",
    "            x, y, w, h = box\n",
    "            if w / h > 2:\n",
    "                center_x = (2*x + w) / 2\n",
    "                center_y = (2*y + h) / 2   \n",
    "                h = int(w+20)\n",
    "                w = h\n",
    "                x = int(center_x - (w / 2))\n",
    "                y = int(center_y - (h / 2))   \n",
    "            corrected_boxes.append((x, y, w, h)) \n",
    "        return corrected_boxes\n",
    "    \n",
    "    def _check_exponent(self, bounding_boxes):\n",
    "        \"\"\"\n",
    "        Checks difference between vertical coordinate y among two bounding boxes.\n",
    "        \n",
    "        Args:\n",
    "            bounding_boxes (list): bounding box to be used for comparison\n",
    "        Returns:\n",
    "            boolean: True if according to a condition exponent is recognized. Otherwise returns False.\n",
    "            \n",
    "        \"\"\"\n",
    "        origin = (bounding_boxes[0][1])-10\n",
    "        baseline = bounding_boxes[0][1]+bounding_boxes[0][3]+10\n",
    "        remaining_anchors = [((bounding_box[1]+bounding_box[3]+10),bounding_box[2],bounding_box[3]) for bounding_box in bounding_boxes[1:]]\n",
    "        mask = [False]\n",
    "          \n",
    "        for anchor,w,h in remaining_anchors:\n",
    "            \n",
    "            if ((anchor-origin)/(baseline-origin) < 0.65 ) and (w/h < 1.2):\n",
    "                self.is_exponent = True\n",
    "            else:\n",
    "                self.is_exponent = False\n",
    "                \n",
    "            mask.append(self.is_exponent)\n",
    "            \n",
    "        return mask\n",
    "    \n",
    "    def rewritting_equation(self,tuple_list):\n",
    "        \"\"\"\n",
    "        Takes a list of tuples representing a mathematical equation and rewrites it as a string with exponentiation\n",
    "        represented by double asterisks (i.e. **). Inserts * between adjacent number and variable.\n",
    "        Args:\n",
    "            tuple_list(lst): A list of tuples representing a mathematical equation. Each tuple contains an element of the equation as a string and a boolean value indicating whether the element is an exponent or not.\n",
    "        Returns\n",
    "            string (str): returns the rewritten equation as a string.\n",
    "        \"\"\"\n",
    "        \n",
    "        # Iterate through the list of tuples\n",
    "        for i in range(len(tuple_list)):\n",
    "            if i==0:\n",
    "                self.equation += tuple_list[i][0]\n",
    "            # Step 2a: If the element is an exponent, append the \"**\" before an element to equation\n",
    "            elif tuple_list[i][1]:\n",
    "                self.equation += \"**\" + tuple_list[i][0]\n",
    "                \n",
    "            # Step 2b: Otherwise, just append the element to equation\n",
    "            elif tuple_list[i-1][0].isdigit() and (tuple_list[i][0].isalpha() or tuple_list[i][0] == '(')  and i!=0:\n",
    "                self.equation += \"*\" + tuple_list[i][0]  \n",
    "            else: \n",
    "                self.equation += tuple_list[i][0]\n",
    "\n",
    "        return self.equation"
   ]
  },
  {
   "cell_type": "code",
   "execution_count": 129,
   "id": "d238c3ff",
   "metadata": {},
   "outputs": [],
   "source": [
    "class Solver:\n",
    "    \n",
    "    def __init__(self, eq):\n",
    "        self._eq = eq\n",
    "        self.variables = set(re.findall(r'\\b[a-zA-Z]+\\b', self._eq))\n",
    "        self.symbols = self.create_symbols()\n",
    "        self._solutions = []\n",
    "     \n",
    "    @property\n",
    "    def is_polynomial(self):\n",
    "        \"\"\"\n",
    "        Determines if the input is a polynomial equation or not.\n",
    "        Args:\n",
    "            eq: list of tuples representing the equation\n",
    "        Returns: \n",
    "            boolean: True if the input is a polynomial equation, False otherwise\n",
    "        \"\"\"\n",
    "        # Loop through each element in the equation\n",
    "        for el in self._eq:\n",
    "            # Skip operands and other non-variable/non-numeric characters\n",
    "            if el[0] in '+-*/^()=':\n",
    "                continue\n",
    "            \n",
    "            # Check if there are any variables in the equation\n",
    "            elif el[0].isalpha():\n",
    "                return True\n",
    "        \n",
    "        # If none of the above conditions are met, then the equation is not a polynomial\n",
    "        return False\n",
    "    \n",
    "    def create_symbols(self):\n",
    "        symbols = {}\n",
    "        \n",
    "        # create the symbols for the variables\n",
    "        for var in self.variables:\n",
    "            symbols[var] = sympy.symbols(var)\n",
    "        return symbols\n",
    "    \n",
    "    def sympy_equation(self):\n",
    "        \n",
    "        # replace the variables in the equation with the symbols\n",
    "        for var, symbol in self.symbols.items():\n",
    "            self._eq = self._eq.replace(var, str(symbol))\n",
    "            self._eq  = sympy.sympify(self._eq)\n",
    "        return self._eq\n",
    "    \n",
    "    def solve(self):\n",
    "        if '=' in self._eq:\n",
    "            # Strip off '= 0' from the equation\n",
    "            self._eq = self._eq.split('=')[0].strip()\n",
    "\n",
    "        if self.is_polynomial:\n",
    "            for var, symbol in self.symbols.items():\n",
    "                solution = sympy.solve(self.sympy_equation(),symbol)\n",
    "                self._solutions.append(solution)\n",
    "            return self._solutions\n",
    "        \n",
    "        else: \n",
    "            self._solutions.append(eval(self._eq)) \n",
    "            return self._solutions\n",
    "            \n",
    "    @property\n",
    "    def solutions(self):\n",
    "        if isinstance(self._solutions[0], int):\n",
    "            return (self._solutions[0])\n",
    "        else:\n",
    "            solution_str = \"\"\n",
    "            for i, solution in enumerate(self._solutions[0]):\n",
    "                if len(self._solutions[0]) > 1:\n",
    "                    solution_str += \"x{} = {}\".format(i+1, solution)\n",
    "                    if i < len(self._solutions[0]) - 1:\n",
    "                        solution_str += \", \"\n",
    "            return (solution_str)\n",
    "    \n",
    "    @property \n",
    "    def equation(self):\n",
    "        return self._eq"
   ]
  },
  {
   "cell_type": "code",
   "execution_count": 130,
   "id": "6dcdd82f",
   "metadata": {},
   "outputs": [],
   "source": [
    "img = ImageProcessor('D:\\\\FormulaDecoder\\\\model\\\\sample_pics\\\\12.png')"
   ]
  },
  {
   "cell_type": "code",
   "execution_count": 131,
   "id": "19e4aabb",
   "metadata": {},
   "outputs": [],
   "source": [
    "processed_img = img.processed_img"
   ]
  },
  {
   "cell_type": "code",
   "execution_count": 132,
   "id": "cea3bc1c",
   "metadata": {},
   "outputs": [
    {
     "data": {
      "image/png": "[encoded data removed]",
      "text/plain": [
       "<Figure size 640x480 with 1 Axes>"
      ]
     },
     "metadata": {},
     "output_type": "display_data"
    }
   ],
   "source": [
    "# Display the binary image\n",
    "plt.imshow(processed_img, cmap='gray')\n",
    "plt.show()"
   ]
  },
  {
   "cell_type": "code",
   "execution_count": 133,
   "id": "94f5a7ef",
   "metadata": {},
   "outputs": [],
   "source": [
    "ep = EquationParser(processed_img)"
   ]
  },
  {
   "cell_type": "code",
   "execution_count": 134,
   "id": "c692bfe4",
   "metadata": {},
   "outputs": [],
   "source": [
    "equation_parse = ep.parse_equation()"
   ]
  },
  {
   "cell_type": "code",
   "execution_count": 135,
   "id": "b3d933b4",
   "metadata": {},
   "outputs": [
    {
     "name": "stdout",
     "output_type": "stream",
     "text": [
      "x**3-5*x**2-8*x+12=0\n"
     ]
    }
   ],
   "source": [
    "print(equation_parse)"
   ]
  },
  {
   "cell_type": "code",
   "execution_count": 136,
   "id": "daa48f1b",
   "metadata": {},
   "outputs": [],
   "source": [
    "solve = Solver (equation_parse)"
   ]
  },
  {
   "cell_type": "code",
   "execution_count": 137,
   "id": "05ab2312",
   "metadata": {},
   "outputs": [
    {
     "data": {
      "text/plain": [
       "[[-2, 1, 6]]"
      ]
     },
     "execution_count": 137,
     "metadata": {},
     "output_type": "execute_result"
    }
   ],
   "source": [
    "solve.solve()"
   ]
  },
  {
   "cell_type": "code",
   "execution_count": 140,
   "id": "df3b6ed4",
   "metadata": {},
   "outputs": [
    {
     "data": {
      "text/plain": [
       "'x1 = -2, x2 = 1, x3 = 6'"
      ]
     },
     "execution_count": 140,
     "metadata": {},
     "output_type": "execute_result"
    }
   ],
   "source": [
    "solve.solutions"
   ]
  },
  {
   "cell_type": "code",
   "execution_count": null,
   "id": "a2b6011b",
   "metadata": {},
   "outputs": [],
   "source": []
  }
 ],
 "metadata": {
  "kernelspec": {
   "display_name": "Python 3 (ipykernel)",
   "language": "python",
   "name": "python3"
  },
  "language_info": {
   "codemirror_mode": {
    "name": "ipython",
    "version": 3
   },
   "file_extension": ".py",
   "mimetype": "text/x-python",
   "name": "python",
   "nbconvert_exporter": "python",
   "pygments_lexer": "ipython3",
   "version": "3.10.9"
  }
 },
 "nbformat": 4,
 "nbformat_minor": 5
}
